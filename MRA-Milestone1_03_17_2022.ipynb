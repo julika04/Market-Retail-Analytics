{
 "cells": [
  {
   "cell_type": "code",
   "execution_count": 2,
   "metadata": {},
   "outputs": [],
   "source": [
    "import pandas as pd\n",
    "import numpy as np\n",
    "import seaborn as sns\n",
    "import matplotlib.pyplot as plt\n",
    "import warnings\n",
    "warnings.filterwarnings('ignore')"
   ]
  },
  {
   "cell_type": "code",
   "execution_count": 3,
   "metadata": {},
   "outputs": [],
   "source": [
    "df=pd.read_excel(\"Sales_Data.xlsx\")"
   ]
  },
  {
   "cell_type": "code",
   "execution_count": 4,
   "metadata": {},
   "outputs": [
    {
     "data": {
      "text/html": [
       "<div>\n",
       "<style scoped>\n",
       "    .dataframe tbody tr th:only-of-type {\n",
       "        vertical-align: middle;\n",
       "    }\n",
       "\n",
       "    .dataframe tbody tr th {\n",
       "        vertical-align: top;\n",
       "    }\n",
       "\n",
       "    .dataframe thead th {\n",
       "        text-align: right;\n",
       "    }\n",
       "</style>\n",
       "<table border=\"1\" class=\"dataframe\">\n",
       "  <thead>\n",
       "    <tr style=\"text-align: right;\">\n",
       "      <th></th>\n",
       "      <th>ORDERNUMBER</th>\n",
       "      <th>QUANTITYORDERED</th>\n",
       "      <th>PRICEEACH</th>\n",
       "      <th>ORDERLINENUMBER</th>\n",
       "      <th>SALES</th>\n",
       "      <th>ORDERDATE</th>\n",
       "      <th>DAYS_SINCE_LASTORDER</th>\n",
       "      <th>STATUS</th>\n",
       "      <th>PRODUCTLINE</th>\n",
       "      <th>MSRP</th>\n",
       "      <th>PRODUCTCODE</th>\n",
       "      <th>CUSTOMERNAME</th>\n",
       "      <th>PHONE</th>\n",
       "      <th>ADDRESSLINE1</th>\n",
       "      <th>CITY</th>\n",
       "      <th>POSTALCODE</th>\n",
       "      <th>COUNTRY</th>\n",
       "      <th>CONTACTLASTNAME</th>\n",
       "      <th>CONTACTFIRSTNAME</th>\n",
       "      <th>DEALSIZE</th>\n",
       "    </tr>\n",
       "  </thead>\n",
       "  <tbody>\n",
       "    <tr>\n",
       "      <th>0</th>\n",
       "      <td>10107</td>\n",
       "      <td>30</td>\n",
       "      <td>95.70</td>\n",
       "      <td>2</td>\n",
       "      <td>2871.00</td>\n",
       "      <td>2018-02-24</td>\n",
       "      <td>828</td>\n",
       "      <td>Shipped</td>\n",
       "      <td>Motorcycles</td>\n",
       "      <td>95</td>\n",
       "      <td>S10_1678</td>\n",
       "      <td>Land of Toys Inc.</td>\n",
       "      <td>2125557818</td>\n",
       "      <td>897 Long Airport Avenue</td>\n",
       "      <td>NYC</td>\n",
       "      <td>10022</td>\n",
       "      <td>USA</td>\n",
       "      <td>Yu</td>\n",
       "      <td>Kwai</td>\n",
       "      <td>Small</td>\n",
       "    </tr>\n",
       "    <tr>\n",
       "      <th>1</th>\n",
       "      <td>10121</td>\n",
       "      <td>34</td>\n",
       "      <td>81.35</td>\n",
       "      <td>5</td>\n",
       "      <td>2765.90</td>\n",
       "      <td>2018-05-07</td>\n",
       "      <td>757</td>\n",
       "      <td>Shipped</td>\n",
       "      <td>Motorcycles</td>\n",
       "      <td>95</td>\n",
       "      <td>S10_1678</td>\n",
       "      <td>Reims Collectables</td>\n",
       "      <td>26.47.1555</td>\n",
       "      <td>59 rue de l'Abbaye</td>\n",
       "      <td>Reims</td>\n",
       "      <td>51100</td>\n",
       "      <td>France</td>\n",
       "      <td>Henriot</td>\n",
       "      <td>Paul</td>\n",
       "      <td>Small</td>\n",
       "    </tr>\n",
       "    <tr>\n",
       "      <th>2</th>\n",
       "      <td>10134</td>\n",
       "      <td>41</td>\n",
       "      <td>94.74</td>\n",
       "      <td>2</td>\n",
       "      <td>3884.34</td>\n",
       "      <td>2018-07-01</td>\n",
       "      <td>703</td>\n",
       "      <td>Shipped</td>\n",
       "      <td>Motorcycles</td>\n",
       "      <td>95</td>\n",
       "      <td>S10_1678</td>\n",
       "      <td>Lyon Souveniers</td>\n",
       "      <td>+33 1 46 62 7555</td>\n",
       "      <td>27 rue du Colonel Pierre Avia</td>\n",
       "      <td>Paris</td>\n",
       "      <td>75508</td>\n",
       "      <td>France</td>\n",
       "      <td>Da Cunha</td>\n",
       "      <td>Daniel</td>\n",
       "      <td>Medium</td>\n",
       "    </tr>\n",
       "    <tr>\n",
       "      <th>3</th>\n",
       "      <td>10145</td>\n",
       "      <td>45</td>\n",
       "      <td>83.26</td>\n",
       "      <td>6</td>\n",
       "      <td>3746.70</td>\n",
       "      <td>2018-08-25</td>\n",
       "      <td>649</td>\n",
       "      <td>Shipped</td>\n",
       "      <td>Motorcycles</td>\n",
       "      <td>95</td>\n",
       "      <td>S10_1678</td>\n",
       "      <td>Toys4GrownUps.com</td>\n",
       "      <td>6265557265</td>\n",
       "      <td>78934 Hillside Dr.</td>\n",
       "      <td>Pasadena</td>\n",
       "      <td>90003</td>\n",
       "      <td>USA</td>\n",
       "      <td>Young</td>\n",
       "      <td>Julie</td>\n",
       "      <td>Medium</td>\n",
       "    </tr>\n",
       "    <tr>\n",
       "      <th>4</th>\n",
       "      <td>10168</td>\n",
       "      <td>36</td>\n",
       "      <td>96.66</td>\n",
       "      <td>1</td>\n",
       "      <td>3479.76</td>\n",
       "      <td>2018-10-28</td>\n",
       "      <td>586</td>\n",
       "      <td>Shipped</td>\n",
       "      <td>Motorcycles</td>\n",
       "      <td>95</td>\n",
       "      <td>S10_1678</td>\n",
       "      <td>Technics Stores Inc.</td>\n",
       "      <td>6505556809</td>\n",
       "      <td>9408 Furth Circle</td>\n",
       "      <td>Burlingame</td>\n",
       "      <td>94217</td>\n",
       "      <td>USA</td>\n",
       "      <td>Hirano</td>\n",
       "      <td>Juri</td>\n",
       "      <td>Medium</td>\n",
       "    </tr>\n",
       "  </tbody>\n",
       "</table>\n",
       "</div>"
      ],
      "text/plain": [
       "   ORDERNUMBER  QUANTITYORDERED  PRICEEACH  ORDERLINENUMBER    SALES  \\\n",
       "0        10107               30      95.70                2  2871.00   \n",
       "1        10121               34      81.35                5  2765.90   \n",
       "2        10134               41      94.74                2  3884.34   \n",
       "3        10145               45      83.26                6  3746.70   \n",
       "4        10168               36      96.66                1  3479.76   \n",
       "\n",
       "   ORDERDATE  DAYS_SINCE_LASTORDER   STATUS  PRODUCTLINE  MSRP PRODUCTCODE  \\\n",
       "0 2018-02-24                   828  Shipped  Motorcycles    95    S10_1678   \n",
       "1 2018-05-07                   757  Shipped  Motorcycles    95    S10_1678   \n",
       "2 2018-07-01                   703  Shipped  Motorcycles    95    S10_1678   \n",
       "3 2018-08-25                   649  Shipped  Motorcycles    95    S10_1678   \n",
       "4 2018-10-28                   586  Shipped  Motorcycles    95    S10_1678   \n",
       "\n",
       "           CUSTOMERNAME             PHONE                   ADDRESSLINE1  \\\n",
       "0     Land of Toys Inc.        2125557818        897 Long Airport Avenue   \n",
       "1    Reims Collectables        26.47.1555             59 rue de l'Abbaye   \n",
       "2       Lyon Souveniers  +33 1 46 62 7555  27 rue du Colonel Pierre Avia   \n",
       "3     Toys4GrownUps.com        6265557265             78934 Hillside Dr.   \n",
       "4  Technics Stores Inc.        6505556809              9408 Furth Circle   \n",
       "\n",
       "         CITY POSTALCODE COUNTRY CONTACTLASTNAME CONTACTFIRSTNAME DEALSIZE  \n",
       "0         NYC      10022     USA              Yu             Kwai    Small  \n",
       "1       Reims      51100  France         Henriot             Paul    Small  \n",
       "2       Paris      75508  France        Da Cunha           Daniel   Medium  \n",
       "3    Pasadena      90003     USA           Young            Julie   Medium  \n",
       "4  Burlingame      94217     USA          Hirano             Juri   Medium  "
      ]
     },
     "execution_count": 4,
     "metadata": {},
     "output_type": "execute_result"
    }
   ],
   "source": [
    "df.head()"
   ]
  },
  {
   "cell_type": "code",
   "execution_count": 5,
   "metadata": {},
   "outputs": [
    {
     "data": {
      "text/html": [
       "<div>\n",
       "<style scoped>\n",
       "    .dataframe tbody tr th:only-of-type {\n",
       "        vertical-align: middle;\n",
       "    }\n",
       "\n",
       "    .dataframe tbody tr th {\n",
       "        vertical-align: top;\n",
       "    }\n",
       "\n",
       "    .dataframe thead th {\n",
       "        text-align: right;\n",
       "    }\n",
       "</style>\n",
       "<table border=\"1\" class=\"dataframe\">\n",
       "  <thead>\n",
       "    <tr style=\"text-align: right;\">\n",
       "      <th></th>\n",
       "      <th>ORDERNUMBER</th>\n",
       "      <th>QUANTITYORDERED</th>\n",
       "      <th>PRICEEACH</th>\n",
       "      <th>ORDERLINENUMBER</th>\n",
       "      <th>SALES</th>\n",
       "      <th>ORDERDATE</th>\n",
       "      <th>DAYS_SINCE_LASTORDER</th>\n",
       "      <th>STATUS</th>\n",
       "      <th>PRODUCTLINE</th>\n",
       "      <th>MSRP</th>\n",
       "      <th>PRODUCTCODE</th>\n",
       "      <th>CUSTOMERNAME</th>\n",
       "      <th>PHONE</th>\n",
       "      <th>ADDRESSLINE1</th>\n",
       "      <th>CITY</th>\n",
       "      <th>POSTALCODE</th>\n",
       "      <th>COUNTRY</th>\n",
       "      <th>CONTACTLASTNAME</th>\n",
       "      <th>CONTACTFIRSTNAME</th>\n",
       "      <th>DEALSIZE</th>\n",
       "    </tr>\n",
       "  </thead>\n",
       "  <tbody>\n",
       "    <tr>\n",
       "      <th>2742</th>\n",
       "      <td>10350</td>\n",
       "      <td>20</td>\n",
       "      <td>112.22</td>\n",
       "      <td>15</td>\n",
       "      <td>2244.40</td>\n",
       "      <td>2019-12-02</td>\n",
       "      <td>2924</td>\n",
       "      <td>Shipped</td>\n",
       "      <td>Ships</td>\n",
       "      <td>54</td>\n",
       "      <td>S72_3212</td>\n",
       "      <td>Euro Shopping Channel</td>\n",
       "      <td>(91) 555 94 44</td>\n",
       "      <td>C/ Moralzarzal, 86</td>\n",
       "      <td>Madrid</td>\n",
       "      <td>28034</td>\n",
       "      <td>Spain</td>\n",
       "      <td>Freyre</td>\n",
       "      <td>Diego</td>\n",
       "      <td>Small</td>\n",
       "    </tr>\n",
       "    <tr>\n",
       "      <th>2743</th>\n",
       "      <td>10373</td>\n",
       "      <td>29</td>\n",
       "      <td>137.19</td>\n",
       "      <td>1</td>\n",
       "      <td>3978.51</td>\n",
       "      <td>2020-01-31</td>\n",
       "      <td>2865</td>\n",
       "      <td>Shipped</td>\n",
       "      <td>Ships</td>\n",
       "      <td>54</td>\n",
       "      <td>S72_3212</td>\n",
       "      <td>Oulu Toy Supplies, Inc.</td>\n",
       "      <td>981-443655</td>\n",
       "      <td>Torikatu 38</td>\n",
       "      <td>Oulu</td>\n",
       "      <td>90110</td>\n",
       "      <td>Finland</td>\n",
       "      <td>Koskitalo</td>\n",
       "      <td>Pirkko</td>\n",
       "      <td>Medium</td>\n",
       "    </tr>\n",
       "    <tr>\n",
       "      <th>2744</th>\n",
       "      <td>10386</td>\n",
       "      <td>43</td>\n",
       "      <td>125.99</td>\n",
       "      <td>4</td>\n",
       "      <td>5417.57</td>\n",
       "      <td>2020-03-01</td>\n",
       "      <td>2836</td>\n",
       "      <td>Resolved</td>\n",
       "      <td>Ships</td>\n",
       "      <td>54</td>\n",
       "      <td>S72_3212</td>\n",
       "      <td>Euro Shopping Channel</td>\n",
       "      <td>(91) 555 94 44</td>\n",
       "      <td>C/ Moralzarzal, 86</td>\n",
       "      <td>Madrid</td>\n",
       "      <td>28034</td>\n",
       "      <td>Spain</td>\n",
       "      <td>Freyre</td>\n",
       "      <td>Diego</td>\n",
       "      <td>Medium</td>\n",
       "    </tr>\n",
       "    <tr>\n",
       "      <th>2745</th>\n",
       "      <td>10397</td>\n",
       "      <td>34</td>\n",
       "      <td>62.24</td>\n",
       "      <td>1</td>\n",
       "      <td>2116.16</td>\n",
       "      <td>2020-03-28</td>\n",
       "      <td>2810</td>\n",
       "      <td>Shipped</td>\n",
       "      <td>Ships</td>\n",
       "      <td>54</td>\n",
       "      <td>S72_3212</td>\n",
       "      <td>Alpha Cognac</td>\n",
       "      <td>61.77.6555</td>\n",
       "      <td>1 rue Alsace-Lorraine</td>\n",
       "      <td>Toulouse</td>\n",
       "      <td>31000</td>\n",
       "      <td>France</td>\n",
       "      <td>Roulet</td>\n",
       "      <td>Annette</td>\n",
       "      <td>Small</td>\n",
       "    </tr>\n",
       "    <tr>\n",
       "      <th>2746</th>\n",
       "      <td>10414</td>\n",
       "      <td>47</td>\n",
       "      <td>65.52</td>\n",
       "      <td>9</td>\n",
       "      <td>3079.44</td>\n",
       "      <td>2020-05-06</td>\n",
       "      <td>2772</td>\n",
       "      <td>On Hold</td>\n",
       "      <td>Ships</td>\n",
       "      <td>54</td>\n",
       "      <td>S72_3212</td>\n",
       "      <td>Gifts4AllAges.com</td>\n",
       "      <td>6175559555</td>\n",
       "      <td>8616 Spinnaker Dr.</td>\n",
       "      <td>Boston</td>\n",
       "      <td>51003</td>\n",
       "      <td>USA</td>\n",
       "      <td>Yoshido</td>\n",
       "      <td>Juri</td>\n",
       "      <td>Medium</td>\n",
       "    </tr>\n",
       "  </tbody>\n",
       "</table>\n",
       "</div>"
      ],
      "text/plain": [
       "      ORDERNUMBER  QUANTITYORDERED  PRICEEACH  ORDERLINENUMBER    SALES  \\\n",
       "2742        10350               20     112.22               15  2244.40   \n",
       "2743        10373               29     137.19                1  3978.51   \n",
       "2744        10386               43     125.99                4  5417.57   \n",
       "2745        10397               34      62.24                1  2116.16   \n",
       "2746        10414               47      65.52                9  3079.44   \n",
       "\n",
       "      ORDERDATE  DAYS_SINCE_LASTORDER    STATUS PRODUCTLINE  MSRP PRODUCTCODE  \\\n",
       "2742 2019-12-02                  2924   Shipped       Ships    54    S72_3212   \n",
       "2743 2020-01-31                  2865   Shipped       Ships    54    S72_3212   \n",
       "2744 2020-03-01                  2836  Resolved       Ships    54    S72_3212   \n",
       "2745 2020-03-28                  2810   Shipped       Ships    54    S72_3212   \n",
       "2746 2020-05-06                  2772   On Hold       Ships    54    S72_3212   \n",
       "\n",
       "                 CUSTOMERNAME           PHONE           ADDRESSLINE1  \\\n",
       "2742    Euro Shopping Channel  (91) 555 94 44     C/ Moralzarzal, 86   \n",
       "2743  Oulu Toy Supplies, Inc.      981-443655            Torikatu 38   \n",
       "2744    Euro Shopping Channel  (91) 555 94 44     C/ Moralzarzal, 86   \n",
       "2745             Alpha Cognac      61.77.6555  1 rue Alsace-Lorraine   \n",
       "2746        Gifts4AllAges.com      6175559555     8616 Spinnaker Dr.   \n",
       "\n",
       "          CITY POSTALCODE  COUNTRY CONTACTLASTNAME CONTACTFIRSTNAME DEALSIZE  \n",
       "2742    Madrid      28034    Spain          Freyre            Diego    Small  \n",
       "2743      Oulu      90110  Finland       Koskitalo           Pirkko   Medium  \n",
       "2744    Madrid      28034    Spain          Freyre            Diego   Medium  \n",
       "2745  Toulouse      31000   France          Roulet          Annette    Small  \n",
       "2746    Boston      51003      USA         Yoshido             Juri   Medium  "
      ]
     },
     "execution_count": 5,
     "metadata": {},
     "output_type": "execute_result"
    }
   ],
   "source": [
    "df.tail()"
   ]
  },
  {
   "cell_type": "markdown",
   "metadata": {},
   "source": [
    "# Agenda & Executive Summary of the data -> Contents of the ppt -> Problem statement -> About Data (Info, Shape, Summary Stats, your assumptions about data)"
   ]
  },
  {
   "cell_type": "code",
   "execution_count": 5,
   "metadata": {},
   "outputs": [
    {
     "name": "stdout",
     "output_type": "stream",
     "text": [
      "<class 'pandas.core.frame.DataFrame'>\n",
      "RangeIndex: 2747 entries, 0 to 2746\n",
      "Data columns (total 20 columns):\n",
      " #   Column                Non-Null Count  Dtype         \n",
      "---  ------                --------------  -----         \n",
      " 0   ORDERNUMBER           2747 non-null   int64         \n",
      " 1   QUANTITYORDERED       2747 non-null   int64         \n",
      " 2   PRICEEACH             2747 non-null   float64       \n",
      " 3   ORDERLINENUMBER       2747 non-null   int64         \n",
      " 4   SALES                 2747 non-null   float64       \n",
      " 5   ORDERDATE             2747 non-null   datetime64[ns]\n",
      " 6   DAYS_SINCE_LASTORDER  2747 non-null   int64         \n",
      " 7   STATUS                2747 non-null   object        \n",
      " 8   PRODUCTLINE           2747 non-null   object        \n",
      " 9   MSRP                  2747 non-null   int64         \n",
      " 10  PRODUCTCODE           2747 non-null   object        \n",
      " 11  CUSTOMERNAME          2747 non-null   object        \n",
      " 12  PHONE                 2747 non-null   object        \n",
      " 13  ADDRESSLINE1          2747 non-null   object        \n",
      " 14  CITY                  2747 non-null   object        \n",
      " 15  POSTALCODE            2747 non-null   object        \n",
      " 16  COUNTRY               2747 non-null   object        \n",
      " 17  CONTACTLASTNAME       2747 non-null   object        \n",
      " 18  CONTACTFIRSTNAME      2747 non-null   object        \n",
      " 19  DEALSIZE              2747 non-null   object        \n",
      "dtypes: datetime64[ns](1), float64(2), int64(5), object(12)\n",
      "memory usage: 429.3+ KB\n"
     ]
    }
   ],
   "source": [
    "df.info()"
   ]
  },
  {
   "cell_type": "code",
   "execution_count": 7,
   "metadata": {},
   "outputs": [
    {
     "data": {
      "text/plain": [
       "(2747, 20)"
      ]
     },
     "execution_count": 7,
     "metadata": {},
     "output_type": "execute_result"
    }
   ],
   "source": [
    "df.shape"
   ]
  },
  {
   "cell_type": "code",
   "execution_count": 6,
   "metadata": {},
   "outputs": [
    {
     "data": {
      "text/html": [
       "<div>\n",
       "<style scoped>\n",
       "    .dataframe tbody tr th:only-of-type {\n",
       "        vertical-align: middle;\n",
       "    }\n",
       "\n",
       "    .dataframe tbody tr th {\n",
       "        vertical-align: top;\n",
       "    }\n",
       "\n",
       "    .dataframe thead th {\n",
       "        text-align: right;\n",
       "    }\n",
       "</style>\n",
       "<table border=\"1\" class=\"dataframe\">\n",
       "  <thead>\n",
       "    <tr style=\"text-align: right;\">\n",
       "      <th></th>\n",
       "      <th>count</th>\n",
       "      <th>mean</th>\n",
       "      <th>std</th>\n",
       "      <th>min</th>\n",
       "      <th>25%</th>\n",
       "      <th>50%</th>\n",
       "      <th>75%</th>\n",
       "      <th>max</th>\n",
       "    </tr>\n",
       "  </thead>\n",
       "  <tbody>\n",
       "    <tr>\n",
       "      <th>ORDERNUMBER</th>\n",
       "      <td>2747.0</td>\n",
       "      <td>10259.761558</td>\n",
       "      <td>91.877521</td>\n",
       "      <td>10100.00</td>\n",
       "      <td>10181.000</td>\n",
       "      <td>10264.00</td>\n",
       "      <td>10334.500</td>\n",
       "      <td>10425.00</td>\n",
       "    </tr>\n",
       "    <tr>\n",
       "      <th>QUANTITYORDERED</th>\n",
       "      <td>2747.0</td>\n",
       "      <td>35.103021</td>\n",
       "      <td>9.762135</td>\n",
       "      <td>6.00</td>\n",
       "      <td>27.000</td>\n",
       "      <td>35.00</td>\n",
       "      <td>43.000</td>\n",
       "      <td>97.00</td>\n",
       "    </tr>\n",
       "    <tr>\n",
       "      <th>PRICEEACH</th>\n",
       "      <td>2747.0</td>\n",
       "      <td>101.098951</td>\n",
       "      <td>42.042548</td>\n",
       "      <td>26.88</td>\n",
       "      <td>68.745</td>\n",
       "      <td>95.55</td>\n",
       "      <td>127.100</td>\n",
       "      <td>252.87</td>\n",
       "    </tr>\n",
       "    <tr>\n",
       "      <th>ORDERLINENUMBER</th>\n",
       "      <td>2747.0</td>\n",
       "      <td>6.491081</td>\n",
       "      <td>4.230544</td>\n",
       "      <td>1.00</td>\n",
       "      <td>3.000</td>\n",
       "      <td>6.00</td>\n",
       "      <td>9.000</td>\n",
       "      <td>18.00</td>\n",
       "    </tr>\n",
       "    <tr>\n",
       "      <th>SALES</th>\n",
       "      <td>2747.0</td>\n",
       "      <td>3553.047583</td>\n",
       "      <td>1838.953901</td>\n",
       "      <td>482.13</td>\n",
       "      <td>2204.350</td>\n",
       "      <td>3184.80</td>\n",
       "      <td>4503.095</td>\n",
       "      <td>14082.80</td>\n",
       "    </tr>\n",
       "    <tr>\n",
       "      <th>DAYS_SINCE_LASTORDER</th>\n",
       "      <td>2747.0</td>\n",
       "      <td>1757.085912</td>\n",
       "      <td>819.280576</td>\n",
       "      <td>42.00</td>\n",
       "      <td>1077.000</td>\n",
       "      <td>1761.00</td>\n",
       "      <td>2436.500</td>\n",
       "      <td>3562.00</td>\n",
       "    </tr>\n",
       "    <tr>\n",
       "      <th>MSRP</th>\n",
       "      <td>2747.0</td>\n",
       "      <td>100.691664</td>\n",
       "      <td>40.114802</td>\n",
       "      <td>33.00</td>\n",
       "      <td>68.000</td>\n",
       "      <td>99.00</td>\n",
       "      <td>124.000</td>\n",
       "      <td>214.00</td>\n",
       "    </tr>\n",
       "  </tbody>\n",
       "</table>\n",
       "</div>"
      ],
      "text/plain": [
       "                       count          mean          std       min        25%  \\\n",
       "ORDERNUMBER           2747.0  10259.761558    91.877521  10100.00  10181.000   \n",
       "QUANTITYORDERED       2747.0     35.103021     9.762135      6.00     27.000   \n",
       "PRICEEACH             2747.0    101.098951    42.042548     26.88     68.745   \n",
       "ORDERLINENUMBER       2747.0      6.491081     4.230544      1.00      3.000   \n",
       "SALES                 2747.0   3553.047583  1838.953901    482.13   2204.350   \n",
       "DAYS_SINCE_LASTORDER  2747.0   1757.085912   819.280576     42.00   1077.000   \n",
       "MSRP                  2747.0    100.691664    40.114802     33.00     68.000   \n",
       "\n",
       "                           50%        75%       max  \n",
       "ORDERNUMBER           10264.00  10334.500  10425.00  \n",
       "QUANTITYORDERED          35.00     43.000     97.00  \n",
       "PRICEEACH                95.55    127.100    252.87  \n",
       "ORDERLINENUMBER           6.00      9.000     18.00  \n",
       "SALES                  3184.80   4503.095  14082.80  \n",
       "DAYS_SINCE_LASTORDER   1761.00   2436.500   3562.00  \n",
       "MSRP                     99.00    124.000    214.00  "
      ]
     },
     "execution_count": 6,
     "metadata": {},
     "output_type": "execute_result"
    }
   ],
   "source": [
    "df.describe().T"
   ]
  },
  {
   "cell_type": "code",
   "execution_count": 20,
   "metadata": {},
   "outputs": [
    {
     "data": {
      "text/plain": [
       "ORDERNUMBER             0\n",
       "QUANTITYORDERED         0\n",
       "PRICEEACH               0\n",
       "ORDERLINENUMBER         0\n",
       "SALES                   0\n",
       "ORDERDATE               0\n",
       "DAYS_SINCE_LASTORDER    0\n",
       "STATUS                  0\n",
       "PRODUCTLINE             0\n",
       "MSRP                    0\n",
       "PRODUCTCODE             0\n",
       "CUSTOMERNAME            0\n",
       "PHONE                   0\n",
       "ADDRESSLINE1            0\n",
       "CITY                    0\n",
       "POSTALCODE              0\n",
       "COUNTRY                 0\n",
       "CONTACTLASTNAME         0\n",
       "CONTACTFIRSTNAME        0\n",
       "DEALSIZE                0\n",
       "dtype: int64"
      ]
     },
     "execution_count": 20,
     "metadata": {},
     "output_type": "execute_result"
    }
   ],
   "source": [
    "df.isnull().sum()"
   ]
  },
  {
   "cell_type": "code",
   "execution_count": 22,
   "metadata": {},
   "outputs": [
    {
     "data": {
      "text/plain": [
       "0"
      ]
     },
     "execution_count": 22,
     "metadata": {},
     "output_type": "execute_result"
    }
   ],
   "source": [
    "df.duplicated().sum()"
   ]
  },
  {
   "cell_type": "markdown",
   "metadata": {},
   "source": [
    "**Problem Statement**"
   ]
  },
  {
   "cell_type": "markdown",
   "metadata": {},
   "source": [
    "1. An automobile parts manufacturing company has collected data of transactions for 3 years. \n",
    "\n",
    "2. They do not have any in-house data science team, thus they have hired us as their consultant.\n",
    "\n",
    "3. The need is to use the magical data science skills to provide them with suitable insights about their data and their customers."
   ]
  },
  {
   "cell_type": "markdown",
   "metadata": {},
   "source": [
    "**Assumptions:**"
   ]
  },
  {
   "cell_type": "markdown",
   "metadata": {},
   "source": [
    "1. The data set is having 20 columns and 2747 raws.\n",
    "\n",
    "2. Data does not have any NULL values nor any duplicate value.\n",
    "\n",
    "3. 12 categorical fileds present and others are measures and one date value.\n",
    "\n",
    "4. Outliers might be present by looking into the overall stats.\n",
    "\n",
    "5. Data has details such as customer demography as well as ordering details.\n"
   ]
  },
  {
   "cell_type": "markdown",
   "metadata": {},
   "source": [
    "# Exploratory Analysis and Inferences -> Univariate, Bivariate, and multivariate analysis using data visualization (Weekly, Monthly, Quarterly, Yearly Trends in Sales and Sales Across different Categories of different features in the given data) -> Summarise the inferences"
   ]
  },
  {
   "cell_type": "code",
   "execution_count": 24,
   "metadata": {},
   "outputs": [
    {
     "data": {
      "text/html": [
       "<div>\n",
       "<style scoped>\n",
       "    .dataframe tbody tr th:only-of-type {\n",
       "        vertical-align: middle;\n",
       "    }\n",
       "\n",
       "    .dataframe tbody tr th {\n",
       "        vertical-align: top;\n",
       "    }\n",
       "\n",
       "    .dataframe thead th {\n",
       "        text-align: right;\n",
       "    }\n",
       "</style>\n",
       "<table border=\"1\" class=\"dataframe\">\n",
       "  <thead>\n",
       "    <tr style=\"text-align: right;\">\n",
       "      <th></th>\n",
       "      <th>ORDERNUMBER</th>\n",
       "      <th>QUANTITYORDERED</th>\n",
       "      <th>PRICEEACH</th>\n",
       "      <th>ORDERLINENUMBER</th>\n",
       "      <th>SALES</th>\n",
       "      <th>ORDERDATE</th>\n",
       "      <th>DAYS_SINCE_LASTORDER</th>\n",
       "      <th>STATUS</th>\n",
       "      <th>PRODUCTLINE</th>\n",
       "      <th>MSRP</th>\n",
       "      <th>PRODUCTCODE</th>\n",
       "      <th>CUSTOMERNAME</th>\n",
       "      <th>PHONE</th>\n",
       "      <th>ADDRESSLINE1</th>\n",
       "      <th>CITY</th>\n",
       "      <th>POSTALCODE</th>\n",
       "      <th>COUNTRY</th>\n",
       "      <th>CONTACTLASTNAME</th>\n",
       "      <th>CONTACTFIRSTNAME</th>\n",
       "      <th>DEALSIZE</th>\n",
       "    </tr>\n",
       "  </thead>\n",
       "  <tbody>\n",
       "    <tr>\n",
       "      <th>0</th>\n",
       "      <td>10107</td>\n",
       "      <td>30</td>\n",
       "      <td>95.7</td>\n",
       "      <td>2</td>\n",
       "      <td>2871.0</td>\n",
       "      <td>2018-02-24</td>\n",
       "      <td>828</td>\n",
       "      <td>Shipped</td>\n",
       "      <td>Motorcycles</td>\n",
       "      <td>95</td>\n",
       "      <td>S10_1678</td>\n",
       "      <td>Land of Toys Inc.</td>\n",
       "      <td>2125557818</td>\n",
       "      <td>897 Long Airport Avenue</td>\n",
       "      <td>NYC</td>\n",
       "      <td>10022</td>\n",
       "      <td>USA</td>\n",
       "      <td>Yu</td>\n",
       "      <td>Kwai</td>\n",
       "      <td>Small</td>\n",
       "    </tr>\n",
       "  </tbody>\n",
       "</table>\n",
       "</div>"
      ],
      "text/plain": [
       "   ORDERNUMBER  QUANTITYORDERED  PRICEEACH  ORDERLINENUMBER   SALES  \\\n",
       "0        10107               30       95.7                2  2871.0   \n",
       "\n",
       "   ORDERDATE  DAYS_SINCE_LASTORDER   STATUS  PRODUCTLINE  MSRP PRODUCTCODE  \\\n",
       "0 2018-02-24                   828  Shipped  Motorcycles    95    S10_1678   \n",
       "\n",
       "        CUSTOMERNAME       PHONE             ADDRESSLINE1 CITY POSTALCODE  \\\n",
       "0  Land of Toys Inc.  2125557818  897 Long Airport Avenue  NYC      10022   \n",
       "\n",
       "  COUNTRY CONTACTLASTNAME CONTACTFIRSTNAME DEALSIZE  \n",
       "0     USA              Yu             Kwai    Small  "
      ]
     },
     "execution_count": 24,
     "metadata": {},
     "output_type": "execute_result"
    }
   ],
   "source": [
    "df.head(1)"
   ]
  },
  {
   "cell_type": "markdown",
   "metadata": {},
   "source": [
    "# Univariate Analysis"
   ]
  },
  {
   "cell_type": "code",
   "execution_count": 31,
   "metadata": {},
   "outputs": [
    {
     "data": {
      "text/plain": [
       "array(['S10_1678', 'S10_1949', 'S10_2016', 'S10_4698', 'S10_4757',\n",
       "       'S10_4962', 'S12_1099', 'S12_1108', 'S12_1666', 'S12_2823',\n",
       "       'S12_3148', 'S12_3380', 'S12_3891', 'S12_3990', 'S12_4473',\n",
       "       'S12_4675', 'S18_1097', 'S18_1129', 'S18_1342', 'S18_1367',\n",
       "       'S18_1589', 'S18_1662', 'S18_1749', 'S18_1889', 'S18_1984',\n",
       "       'S18_2238', 'S18_2248', 'S18_2319', 'S18_2325', 'S18_2432',\n",
       "       'S18_2581', 'S18_2625', 'S18_2795', 'S18_2870', 'S18_2949',\n",
       "       'S18_2957', 'S18_3029', 'S18_3136', 'S18_3140', 'S18_3232',\n",
       "       'S18_3259', 'S18_3278', 'S18_3320', 'S18_3482', 'S18_3685',\n",
       "       'S18_3782', 'S18_3856', 'S18_4027', 'S18_4409', 'S18_4522',\n",
       "       'S18_4600', 'S18_4668', 'S18_4721', 'S18_4933', 'S24_1046',\n",
       "       'S24_1444', 'S24_1578', 'S24_1628', 'S24_1785', 'S24_1937',\n",
       "       'S24_2000', 'S24_2011', 'S24_2022', 'S24_2300', 'S24_2360',\n",
       "       'S24_2766', 'S24_2840', 'S24_2841', 'S24_2887', 'S24_2972',\n",
       "       'S24_3151', 'S24_3191', 'S24_3371', 'S24_3420', 'S24_3432',\n",
       "       'S24_3816', 'S24_3856', 'S24_3949', 'S24_3969', 'S24_4048',\n",
       "       'S24_4258', 'S24_4278', 'S24_4620', 'S32_1268', 'S32_1374',\n",
       "       'S32_2206', 'S32_2509', 'S32_3207', 'S32_3522', 'S32_4289',\n",
       "       'S32_4485', 'S50_1341', 'S50_1392', 'S50_1514', 'S50_4713',\n",
       "       'S700_1138', 'S700_1691', 'S700_1938', 'S700_2047', 'S700_2466',\n",
       "       'S700_2610', 'S700_2824', 'S700_2834', 'S700_3167', 'S700_3505',\n",
       "       'S700_3962', 'S700_4002', 'S72_1253', 'S72_3212'], dtype=object)"
      ]
     },
     "execution_count": 31,
     "metadata": {},
     "output_type": "execute_result"
    }
   ],
   "source": [
    "df['PRODUCTCODE'].unique()"
   ]
  },
  {
   "cell_type": "code",
   "execution_count": 47,
   "metadata": {},
   "outputs": [
    {
     "data": {
      "text/plain": [
       "109"
      ]
     },
     "execution_count": 47,
     "metadata": {},
     "output_type": "execute_result"
    }
   ],
   "source": [
    "df['PRODUCTCODE'].nunique()"
   ]
  },
  {
   "cell_type": "code",
   "execution_count": 46,
   "metadata": {},
   "outputs": [
    {
     "data": {
      "text/plain": [
       "<matplotlib.axes._subplots.AxesSubplot at 0x1e1d0757358>"
      ]
     },
     "execution_count": 46,
     "metadata": {},
     "output_type": "execute_result"
    },
    {
     "data": {
      "image/png": "[encoded data removed]",
      "text/plain": [
       "<Figure size 1440x576 with 1 Axes>"
      ]
     },
     "metadata": {},
     "output_type": "display_data"
    }
   ],
   "source": [
    "plt.figure(figsize=(20,8))\n",
    "sns.countplot(x='COUNTRY',data=df)"
   ]
  },
  {
   "cell_type": "markdown",
   "metadata": {},
   "source": [
    "1. Total 109 product codes are availables\n",
    "\n",
    "2. Most of the customers ordered from USA country and lowest from Ireland\n"
   ]
  },
  {
   "cell_type": "code",
   "execution_count": 3,
   "metadata": {},
   "outputs": [
    {
     "data": {
      "text/plain": [
       "<matplotlib.axes._subplots.AxesSubplot at 0x201d50907f0>"
      ]
     },
     "execution_count": 3,
     "metadata": {},
     "output_type": "execute_result"
    },
    {
     "data": {
      "image/png": "[encoded data removed]",
      "text/plain": [
       "<Figure size 432x288 with 1 Axes>"
      ]
     },
     "metadata": {},
     "output_type": "display_data"
    }
   ],
   "source": [
    "sns.countplot(x='DEALSIZE',data=df)"
   ]
  },
  {
   "cell_type": "markdown",
   "metadata": {},
   "source": [
    "3  types of deal size available and medium size is more popular whereas large size is less popular"
   ]
  },
  {
   "cell_type": "code",
   "execution_count": 51,
   "metadata": {},
   "outputs": [
    {
     "data": {
      "text/plain": [
       "<matplotlib.axes._subplots.AxesSubplot at 0x1e1d05dd278>"
      ]
     },
     "execution_count": 51,
     "metadata": {},
     "output_type": "execute_result"
    },
    {
     "data": {
      "image/png": "[encoded data removed]",
      "text/plain": [
       "<Figure size 864x576 with 1 Axes>"
      ]
     },
     "metadata": {},
     "output_type": "display_data"
    }
   ],
   "source": [
    "plt.figure(figsize=(12,8))\n",
    "sns.countplot(x='PRODUCTLINE',data=df)"
   ]
  },
  {
   "cell_type": "markdown",
   "metadata": {},
   "source": [
    "There are multiple product lines available as above. Classic Car is more preferable whereas Train is the lowest preferable line."
   ]
  },
  {
   "cell_type": "code",
   "execution_count": 53,
   "metadata": {},
   "outputs": [
    {
     "data": {
      "text/plain": [
       "<matplotlib.axes._subplots.AxesSubplot at 0x1e1cfe17ac8>"
      ]
     },
     "execution_count": 53,
     "metadata": {},
     "output_type": "execute_result"
    },
    {
     "data": {
      "image/png": "[encoded data removed]",
      "text/plain": [
       "<Figure size 864x576 with 1 Axes>"
      ]
     },
     "metadata": {},
     "output_type": "display_data"
    }
   ],
   "source": [
    "plt.figure(figsize=(12,8))\n",
    "sns.countplot(x='STATUS',data=df)"
   ]
  },
  {
   "cell_type": "markdown",
   "metadata": {},
   "source": [
    "More number of products are already shipped, where as very less no of product which are disrupted due to some reason. \n",
    "\n",
    "So the company product shipping activity is faster since last 3 years, if we see overall status"
   ]
  },
  {
   "cell_type": "code",
   "execution_count": 4,
   "metadata": {},
   "outputs": [
    {
     "data": {
      "image/png": "[encoded data removed]",
      "text/plain": [
       "<Figure size 432x288 with 1 Axes>"
      ]
     },
     "metadata": {},
     "output_type": "display_data"
    }
   ],
   "source": [
    "sns.distplot(df['SALES'],color='blue');"
   ]
  },
  {
   "cell_type": "code",
   "execution_count": 5,
   "metadata": {},
   "outputs": [
    {
     "data": {
      "text/plain": [
       "<matplotlib.axes._subplots.AxesSubplot at 0x20183500198>"
      ]
     },
     "execution_count": 5,
     "metadata": {},
     "output_type": "execute_result"
    },
    {
     "data": {
      "image/png": "[encoded data removed]",
      "text/plain": [
       "<Figure size 432x288 with 1 Axes>"
      ]
     },
     "metadata": {},
     "output_type": "display_data"
    }
   ],
   "source": [
    "sns.boxplot(x=df['SALES'],data=df,color='blue')"
   ]
  },
  {
   "cell_type": "markdown",
   "metadata": {},
   "source": [
    "Sales distribution is not normally distributed"
   ]
  },
  {
   "cell_type": "markdown",
   "metadata": {},
   "source": [
    "Price distribution:"
   ]
  },
  {
   "cell_type": "code",
   "execution_count": 7,
   "metadata": {},
   "outputs": [
    {
     "data": {
      "text/plain": [
       "<matplotlib.axes._subplots.AxesSubplot at 0x201d74dfd30>"
      ]
     },
     "execution_count": 7,
     "metadata": {},
     "output_type": "execute_result"
    },
    {
     "data": {
      "image/png": "[encoded data removed]",
      "text/plain": [
       "<Figure size 432x288 with 1 Axes>"
      ]
     },
     "metadata": {},
     "output_type": "display_data"
    }
   ],
   "source": [
    "sns.distplot(df['PRICEEACH'],color='blue')"
   ]
  },
  {
   "cell_type": "markdown",
   "metadata": {},
   "source": [
    "**outlier check in Price**"
   ]
  },
  {
   "cell_type": "code",
   "execution_count": 3,
   "metadata": {},
   "outputs": [
    {
     "data": {
      "text/plain": [
       "<matplotlib.axes._subplots.AxesSubplot at 0x2dcbf35bda0>"
      ]
     },
     "execution_count": 3,
     "metadata": {},
     "output_type": "execute_result"
    },
    {
     "data": {
      "image/png": "[encoded data removed]",
      "text/plain": [
       "<Figure size 432x288 with 1 Axes>"
      ]
     },
     "metadata": {},
     "output_type": "display_data"
    }
   ],
   "source": [
    "sns.boxplot(x='PRICEEACH',data=df,color='blue')"
   ]
  },
  {
   "cell_type": "markdown",
   "metadata": {},
   "source": [
    "There is outlier in product price, it means some product is having higher price"
   ]
  },
  {
   "cell_type": "code",
   "execution_count": 4,
   "metadata": {},
   "outputs": [
    {
     "data": {
      "text/plain": [
       "<matplotlib.axes._subplots.AxesSubplot at 0x2dcbf6492e8>"
      ]
     },
     "execution_count": 4,
     "metadata": {},
     "output_type": "execute_result"
    },
    {
     "data": {
      "image/png": "[encoded data removed]",
      "text/plain": [
       "<Figure size 432x288 with 1 Axes>"
      ]
     },
     "metadata": {},
     "output_type": "display_data"
    }
   ],
   "source": [
    "sns.boxplot(x='SALES',data=df,color='blue')"
   ]
  },
  {
   "cell_type": "markdown",
   "metadata": {},
   "source": [
    "Outlier is present towards maximum side in Sales "
   ]
  },
  {
   "cell_type": "code",
   "execution_count": 5,
   "metadata": {},
   "outputs": [
    {
     "data": {
      "text/plain": [
       "<matplotlib.axes._subplots.AxesSubplot at 0x2dcbf67acf8>"
      ]
     },
     "execution_count": 5,
     "metadata": {},
     "output_type": "execute_result"
    },
    {
     "data": {
      "image/png": "[encoded data removed]",
      "text/plain": [
       "<Figure size 432x288 with 1 Axes>"
      ]
     },
     "metadata": {},
     "output_type": "display_data"
    }
   ],
   "source": [
    "sns.distplot(df['QUANTITYORDERED'],color='blue')"
   ]
  },
  {
   "cell_type": "code",
   "execution_count": 6,
   "metadata": {},
   "outputs": [
    {
     "data": {
      "text/plain": [
       "<matplotlib.axes._subplots.AxesSubplot at 0x2dcbf6a9da0>"
      ]
     },
     "execution_count": 6,
     "metadata": {},
     "output_type": "execute_result"
    },
    {
     "data": {
      "image/png": "[encoded data removed]",
      "text/plain": [
       "<Figure size 432x288 with 1 Axes>"
      ]
     },
     "metadata": {},
     "output_type": "display_data"
    }
   ],
   "source": [
    "sns.boxplot(x='QUANTITYORDERED',data=df,color='blue')"
   ]
  },
  {
   "cell_type": "markdown",
   "metadata": {},
   "source": [
    "# Multivariate Analysis"
   ]
  },
  {
   "cell_type": "code",
   "execution_count": 5,
   "metadata": {},
   "outputs": [
    {
     "data": {
      "text/html": [
       "<style  type=\"text/css\" >\n",
       "    #T_eddfec0c_9eda_11ec_8282_dc1ba19c8bae th {\n",
       "          font-size: 9pt;\n",
       "    }    #T_eddfec0c_9eda_11ec_8282_dc1ba19c8baerow0_col0 {\n",
       "            background-color:  #302225;\n",
       "            color:  #f1f1f1;\n",
       "        }    #T_eddfec0c_9eda_11ec_8282_dc1ba19c8baerow0_col1 {\n",
       "            background-color:  #d49fa8;\n",
       "            color:  #000000;\n",
       "        }    #T_eddfec0c_9eda_11ec_8282_dc1ba19c8baerow0_col2 {\n",
       "            background-color:  #ae828a;\n",
       "            color:  #000000;\n",
       "        }    #T_eddfec0c_9eda_11ec_8282_dc1ba19c8baerow0_col3 {\n",
       "            background-color:  #e0a8b2;\n",
       "            color:  #000000;\n",
       "        }    #T_eddfec0c_9eda_11ec_8282_dc1ba19c8baerow0_col4 {\n",
       "            background-color:  #b0848c;\n",
       "            color:  #000000;\n",
       "        }    #T_eddfec0c_9eda_11ec_8282_dc1ba19c8baerow0_col5 {\n",
       "            background-color:  #c9979f;\n",
       "            color:  #000000;\n",
       "        }    #T_eddfec0c_9eda_11ec_8282_dc1ba19c8baerow0_col6 {\n",
       "            background-color:  #a67d84;\n",
       "            color:  #000000;\n",
       "        }    #T_eddfec0c_9eda_11ec_8282_dc1ba19c8baerow1_col0 {\n",
       "            background-color:  #cb98a1;\n",
       "            color:  #000000;\n",
       "        }    #T_eddfec0c_9eda_11ec_8282_dc1ba19c8baerow1_col1 {\n",
       "            background-color:  #302225;\n",
       "            color:  #f1f1f1;\n",
       "        }    #T_eddfec0c_9eda_11ec_8282_dc1ba19c8baerow1_col2 {\n",
       "            background-color:  #a37a81;\n",
       "            color:  #000000;\n",
       "        }    #T_eddfec0c_9eda_11ec_8282_dc1ba19c8baerow1_col3 {\n",
       "            background-color:  #e8afb9;\n",
       "            color:  #000000;\n",
       "        }    #T_eddfec0c_9eda_11ec_8282_dc1ba19c8baerow1_col4 {\n",
       "            background-color:  #715459;\n",
       "            color:  #f1f1f1;\n",
       "        }    #T_eddfec0c_9eda_11ec_8282_dc1ba19c8baerow1_col5 {\n",
       "            background-color:  #ad8289;\n",
       "            color:  #000000;\n",
       "        }    #T_eddfec0c_9eda_11ec_8282_dc1ba19c8baerow1_col6 {\n",
       "            background-color:  #a1787f;\n",
       "            color:  #000000;\n",
       "        }    #T_eddfec0c_9eda_11ec_8282_dc1ba19c8baerow2_col0 {\n",
       "            background-color:  #d6a0aa;\n",
       "            color:  #000000;\n",
       "        }    #T_eddfec0c_9eda_11ec_8282_dc1ba19c8baerow2_col1 {\n",
       "            background-color:  #d19da6;\n",
       "            color:  #000000;\n",
       "        }    #T_eddfec0c_9eda_11ec_8282_dc1ba19c8baerow2_col2 {\n",
       "            background-color:  #302225;\n",
       "            color:  #f1f1f1;\n",
       "        }    #T_eddfec0c_9eda_11ec_8282_dc1ba19c8baerow2_col3 {\n",
       "            background-color:  #f2b6c1;\n",
       "            color:  #000000;\n",
       "        }    #T_eddfec0c_9eda_11ec_8282_dc1ba19c8baerow2_col4 {\n",
       "            background-color:  #3c2c2e;\n",
       "            color:  #f1f1f1;\n",
       "        }    #T_eddfec0c_9eda_11ec_8282_dc1ba19c8baerow2_col5 {\n",
       "            background-color:  #f8bbc6;\n",
       "            color:  #000000;\n",
       "        }    #T_eddfec0c_9eda_11ec_8282_dc1ba19c8baerow2_col6 {\n",
       "            background-color:  #342528;\n",
       "            color:  #f1f1f1;\n",
       "        }    #T_eddfec0c_9eda_11ec_8282_dc1ba19c8baerow3_col0 {\n",
       "            background-color:  #ebb1bb;\n",
       "            color:  #000000;\n",
       "        }    #T_eddfec0c_9eda_11ec_8282_dc1ba19c8baerow3_col1 {\n",
       "            background-color:  #ffc0cb;\n",
       "            color:  #000000;\n",
       "        }    #T_eddfec0c_9eda_11ec_8282_dc1ba19c8baerow3_col2 {\n",
       "            background-color:  #cc99a2;\n",
       "            color:  #000000;\n",
       "        }    #T_eddfec0c_9eda_11ec_8282_dc1ba19c8baerow3_col3 {\n",
       "            background-color:  #302225;\n",
       "            color:  #f1f1f1;\n",
       "        }    #T_eddfec0c_9eda_11ec_8282_dc1ba19c8baerow3_col4 {\n",
       "            background-color:  #daa4ad;\n",
       "            color:  #000000;\n",
       "        }    #T_eddfec0c_9eda_11ec_8282_dc1ba19c8baerow3_col5 {\n",
       "            background-color:  #8b686e;\n",
       "            color:  #000000;\n",
       "        }    #T_eddfec0c_9eda_11ec_8282_dc1ba19c8baerow3_col6 {\n",
       "            background-color:  #c09098;\n",
       "            color:  #000000;\n",
       "        }    #T_eddfec0c_9eda_11ec_8282_dc1ba19c8baerow4_col0 {\n",
       "            background-color:  #d6a0aa;\n",
       "            color:  #000000;\n",
       "        }    #T_eddfec0c_9eda_11ec_8282_dc1ba19c8baerow4_col1 {\n",
       "            background-color:  #88666c;\n",
       "            color:  #000000;\n",
       "        }    #T_eddfec0c_9eda_11ec_8282_dc1ba19c8baerow4_col2 {\n",
       "            background-color:  #3c2c2e;\n",
       "            color:  #f1f1f1;\n",
       "        }    #T_eddfec0c_9eda_11ec_8282_dc1ba19c8baerow4_col3 {\n",
       "            background-color:  #ffc0cb;\n",
       "            color:  #000000;\n",
       "        }    #T_eddfec0c_9eda_11ec_8282_dc1ba19c8baerow4_col4 {\n",
       "            background-color:  #302225;\n",
       "            color:  #f1f1f1;\n",
       "        }    #T_eddfec0c_9eda_11ec_8282_dc1ba19c8baerow4_col5 {\n",
       "            background-color:  #f4b8c3;\n",
       "            color:  #000000;\n",
       "        }    #T_eddfec0c_9eda_11ec_8282_dc1ba19c8baerow4_col6 {\n",
       "            background-color:  #402f32;\n",
       "            color:  #f1f1f1;\n",
       "        }    #T_eddfec0c_9eda_11ec_8282_dc1ba19c8baerow5_col0 {\n",
       "            background-color:  #ffc0cb;\n",
       "            color:  #000000;\n",
       "        }    #T_eddfec0c_9eda_11ec_8282_dc1ba19c8baerow5_col1 {\n",
       "            background-color:  #e5acb6;\n",
       "            color:  #000000;\n",
       "        }    #T_eddfec0c_9eda_11ec_8282_dc1ba19c8baerow5_col2 {\n",
       "            background-color:  #ffc0cb;\n",
       "            color:  #000000;\n",
       "        }    #T_eddfec0c_9eda_11ec_8282_dc1ba19c8baerow5_col3 {\n",
       "            background-color:  #a67c83;\n",
       "            color:  #000000;\n",
       "        }    #T_eddfec0c_9eda_11ec_8282_dc1ba19c8baerow5_col4 {\n",
       "            background-color:  #ffc0cb;\n",
       "            color:  #000000;\n",
       "        }    #T_eddfec0c_9eda_11ec_8282_dc1ba19c8baerow5_col5 {\n",
       "            background-color:  #302225;\n",
       "            color:  #f1f1f1;\n",
       "        }    #T_eddfec0c_9eda_11ec_8282_dc1ba19c8baerow5_col6 {\n",
       "            background-color:  #ffc0cb;\n",
       "            color:  #000000;\n",
       "        }    #T_eddfec0c_9eda_11ec_8282_dc1ba19c8baerow6_col0 {\n",
       "            background-color:  #d19da6;\n",
       "            color:  #000000;\n",
       "        }    #T_eddfec0c_9eda_11ec_8282_dc1ba19c8baerow6_col1 {\n",
       "            background-color:  #d49fa8;\n",
       "            color:  #000000;\n",
       "        }    #T_eddfec0c_9eda_11ec_8282_dc1ba19c8baerow6_col2 {\n",
       "            background-color:  #342528;\n",
       "            color:  #f1f1f1;\n",
       "        }    #T_eddfec0c_9eda_11ec_8282_dc1ba19c8baerow6_col3 {\n",
       "            background-color:  #e9afb9;\n",
       "            color:  #000000;\n",
       "        }    #T_eddfec0c_9eda_11ec_8282_dc1ba19c8baerow6_col4 {\n",
       "            background-color:  #413033;\n",
       "            color:  #f1f1f1;\n",
       "        }    #T_eddfec0c_9eda_11ec_8282_dc1ba19c8baerow6_col5 {\n",
       "            background-color:  #ffc0cb;\n",
       "            color:  #000000;\n",
       "        }    #T_eddfec0c_9eda_11ec_8282_dc1ba19c8baerow6_col6 {\n",
       "            background-color:  #302225;\n",
       "            color:  #f1f1f1;\n",
       "        }</style><table id=\"T_eddfec0c_9eda_11ec_8282_dc1ba19c8bae\" ><thead>    <tr>        <th class=\"blank level0\" ></th>        <th class=\"col_heading level0 col0\" >ORDERNUMBER</th>        <th class=\"col_heading level0 col1\" >QUANTITYORDERED</th>        <th class=\"col_heading level0 col2\" >PRICEEACH</th>        <th class=\"col_heading level0 col3\" >ORDERLINENUMBER</th>        <th class=\"col_heading level0 col4\" >SALES</th>        <th class=\"col_heading level0 col5\" >DAYS_SINCE_LASTORDER</th>        <th class=\"col_heading level0 col6\" >MSRP</th>    </tr></thead><tbody>\n",
       "                <tr>\n",
       "                        <th id=\"T_eddfec0c_9eda_11ec_8282_dc1ba19c8baelevel0_row0\" class=\"row_heading level0 row0\" >ORDERNUMBER</th>\n",
       "                        <td id=\"T_eddfec0c_9eda_11ec_8282_dc1ba19c8baerow0_col0\" class=\"data row0 col0\" >1.000000</td>\n",
       "                        <td id=\"T_eddfec0c_9eda_11ec_8282_dc1ba19c8baerow0_col1\" class=\"data row0 col1\" >-0.019853</td>\n",
       "                        <td id=\"T_eddfec0c_9eda_11ec_8282_dc1ba19c8baerow0_col2\" class=\"data row0 col2\" >-0.093563</td>\n",
       "                        <td id=\"T_eddfec0c_9eda_11ec_8282_dc1ba19c8baerow0_col3\" class=\"data row0 col3\" >-0.229640</td>\n",
       "                        <td id=\"T_eddfec0c_9eda_11ec_8282_dc1ba19c8baerow0_col4\" class=\"data row0 col4\" >-0.089038</td>\n",
       "                        <td id=\"T_eddfec0c_9eda_11ec_8282_dc1ba19c8baerow0_col5\" class=\"data row0 col5\" >-0.366620</td>\n",
       "                        <td id=\"T_eddfec0c_9eda_11ec_8282_dc1ba19c8baerow0_col6\" class=\"data row0 col6\" >-0.061617</td>\n",
       "            </tr>\n",
       "            <tr>\n",
       "                        <th id=\"T_eddfec0c_9eda_11ec_8282_dc1ba19c8baelevel0_row1\" class=\"row_heading level0 row1\" >QUANTITYORDERED</th>\n",
       "                        <td id=\"T_eddfec0c_9eda_11ec_8282_dc1ba19c8baerow1_col0\" class=\"data row1 col0\" >-0.019853</td>\n",
       "                        <td id=\"T_eddfec0c_9eda_11ec_8282_dc1ba19c8baerow1_col1\" class=\"data row1 col1\" >1.000000</td>\n",
       "                        <td id=\"T_eddfec0c_9eda_11ec_8282_dc1ba19c8baerow1_col2\" class=\"data row1 col2\" >-0.000806</td>\n",
       "                        <td id=\"T_eddfec0c_9eda_11ec_8282_dc1ba19c8baerow1_col3\" class=\"data row1 col3\" >-0.286170</td>\n",
       "                        <td id=\"T_eddfec0c_9eda_11ec_8282_dc1ba19c8baerow1_col4\" class=\"data row1 col4\" >0.448956</td>\n",
       "                        <td id=\"T_eddfec0c_9eda_11ec_8282_dc1ba19c8baerow1_col5\" class=\"data row1 col5\" >-0.123264</td>\n",
       "                        <td id=\"T_eddfec0c_9eda_11ec_8282_dc1ba19c8baerow1_col6\" class=\"data row1 col6\" >-0.016025</td>\n",
       "            </tr>\n",
       "            <tr>\n",
       "                        <th id=\"T_eddfec0c_9eda_11ec_8282_dc1ba19c8baelevel0_row2\" class=\"row_heading level0 row2\" >PRICEEACH</th>\n",
       "                        <td id=\"T_eddfec0c_9eda_11ec_8282_dc1ba19c8baerow2_col0\" class=\"data row2 col0\" >-0.093563</td>\n",
       "                        <td id=\"T_eddfec0c_9eda_11ec_8282_dc1ba19c8baerow2_col1\" class=\"data row2 col1\" >-0.000806</td>\n",
       "                        <td id=\"T_eddfec0c_9eda_11ec_8282_dc1ba19c8baerow2_col2\" class=\"data row2 col2\" >1.000000</td>\n",
       "                        <td id=\"T_eddfec0c_9eda_11ec_8282_dc1ba19c8baerow2_col3\" class=\"data row2 col3\" >-0.351547</td>\n",
       "                        <td id=\"T_eddfec0c_9eda_11ec_8282_dc1ba19c8baerow2_col4\" class=\"data row2 col4\" >0.892637</td>\n",
       "                        <td id=\"T_eddfec0c_9eda_11ec_8282_dc1ba19c8baerow2_col5\" class=\"data row2 col5\" >-0.795533</td>\n",
       "                        <td id=\"T_eddfec0c_9eda_11ec_8282_dc1ba19c8baerow2_col6\" class=\"data row2 col6\" >0.961844</td>\n",
       "            </tr>\n",
       "            <tr>\n",
       "                        <th id=\"T_eddfec0c_9eda_11ec_8282_dc1ba19c8baelevel0_row3\" class=\"row_heading level0 row3\" >ORDERLINENUMBER</th>\n",
       "                        <td id=\"T_eddfec0c_9eda_11ec_8282_dc1ba19c8baerow3_col0\" class=\"data row3 col0\" >-0.229640</td>\n",
       "                        <td id=\"T_eddfec0c_9eda_11ec_8282_dc1ba19c8baerow3_col1\" class=\"data row3 col1\" >-0.286170</td>\n",
       "                        <td id=\"T_eddfec0c_9eda_11ec_8282_dc1ba19c8baerow3_col2\" class=\"data row3 col2\" >-0.351547</td>\n",
       "                        <td id=\"T_eddfec0c_9eda_11ec_8282_dc1ba19c8baerow3_col3\" class=\"data row3 col3\" >1.000000</td>\n",
       "                        <td id=\"T_eddfec0c_9eda_11ec_8282_dc1ba19c8baerow3_col4\" class=\"data row3 col4\" >-0.444607</td>\n",
       "                        <td id=\"T_eddfec0c_9eda_11ec_8282_dc1ba19c8baerow3_col5\" class=\"data row3 col5\" >0.180793</td>\n",
       "                        <td id=\"T_eddfec0c_9eda_11ec_8282_dc1ba19c8baerow3_col6\" class=\"data row3 col6\" >-0.290236</td>\n",
       "            </tr>\n",
       "            <tr>\n",
       "                        <th id=\"T_eddfec0c_9eda_11ec_8282_dc1ba19c8baelevel0_row4\" class=\"row_heading level0 row4\" >SALES</th>\n",
       "                        <td id=\"T_eddfec0c_9eda_11ec_8282_dc1ba19c8baerow4_col0\" class=\"data row4 col0\" >-0.089038</td>\n",
       "                        <td id=\"T_eddfec0c_9eda_11ec_8282_dc1ba19c8baerow4_col1\" class=\"data row4 col1\" >0.448956</td>\n",
       "                        <td id=\"T_eddfec0c_9eda_11ec_8282_dc1ba19c8baerow4_col2\" class=\"data row4 col2\" >0.892637</td>\n",
       "                        <td id=\"T_eddfec0c_9eda_11ec_8282_dc1ba19c8baerow4_col3\" class=\"data row4 col3\" >-0.444607</td>\n",
       "                        <td id=\"T_eddfec0c_9eda_11ec_8282_dc1ba19c8baerow4_col4\" class=\"data row4 col4\" >1.000000</td>\n",
       "                        <td id=\"T_eddfec0c_9eda_11ec_8282_dc1ba19c8baerow4_col5\" class=\"data row4 col5\" >-0.761771</td>\n",
       "                        <td id=\"T_eddfec0c_9eda_11ec_8282_dc1ba19c8baerow4_col6\" class=\"data row4 col6\" >0.848200</td>\n",
       "            </tr>\n",
       "            <tr>\n",
       "                        <th id=\"T_eddfec0c_9eda_11ec_8282_dc1ba19c8baelevel0_row5\" class=\"row_heading level0 row5\" >DAYS_SINCE_LASTORDER</th>\n",
       "                        <td id=\"T_eddfec0c_9eda_11ec_8282_dc1ba19c8baerow5_col0\" class=\"data row5 col0\" >-0.366620</td>\n",
       "                        <td id=\"T_eddfec0c_9eda_11ec_8282_dc1ba19c8baerow5_col1\" class=\"data row5 col1\" >-0.123264</td>\n",
       "                        <td id=\"T_eddfec0c_9eda_11ec_8282_dc1ba19c8baerow5_col2\" class=\"data row5 col2\" >-0.795533</td>\n",
       "                        <td id=\"T_eddfec0c_9eda_11ec_8282_dc1ba19c8baerow5_col3\" class=\"data row5 col3\" >0.180793</td>\n",
       "                        <td id=\"T_eddfec0c_9eda_11ec_8282_dc1ba19c8baerow5_col4\" class=\"data row5 col4\" >-0.761771</td>\n",
       "                        <td id=\"T_eddfec0c_9eda_11ec_8282_dc1ba19c8baerow5_col5\" class=\"data row5 col5\" >1.000000</td>\n",
       "                        <td id=\"T_eddfec0c_9eda_11ec_8282_dc1ba19c8baerow5_col6\" class=\"data row5 col6\" >-0.857988</td>\n",
       "            </tr>\n",
       "            <tr>\n",
       "                        <th id=\"T_eddfec0c_9eda_11ec_8282_dc1ba19c8baelevel0_row6\" class=\"row_heading level0 row6\" >MSRP</th>\n",
       "                        <td id=\"T_eddfec0c_9eda_11ec_8282_dc1ba19c8baerow6_col0\" class=\"data row6 col0\" >-0.061617</td>\n",
       "                        <td id=\"T_eddfec0c_9eda_11ec_8282_dc1ba19c8baerow6_col1\" class=\"data row6 col1\" >-0.016025</td>\n",
       "                        <td id=\"T_eddfec0c_9eda_11ec_8282_dc1ba19c8baerow6_col2\" class=\"data row6 col2\" >0.961844</td>\n",
       "                        <td id=\"T_eddfec0c_9eda_11ec_8282_dc1ba19c8baerow6_col3\" class=\"data row6 col3\" >-0.290236</td>\n",
       "                        <td id=\"T_eddfec0c_9eda_11ec_8282_dc1ba19c8baerow6_col4\" class=\"data row6 col4\" >0.848200</td>\n",
       "                        <td id=\"T_eddfec0c_9eda_11ec_8282_dc1ba19c8baerow6_col5\" class=\"data row6 col5\" >-0.857988</td>\n",
       "                        <td id=\"T_eddfec0c_9eda_11ec_8282_dc1ba19c8baerow6_col6\" class=\"data row6 col6\" >1.000000</td>\n",
       "            </tr>\n",
       "    </tbody></table>"
      ],
      "text/plain": [
       "<pandas.io.formats.style.Styler at 0x1c0b3a2d6a0>"
      ]
     },
     "execution_count": 5,
     "metadata": {},
     "output_type": "execute_result"
    }
   ],
   "source": [
    "df=df.corr()\n",
    "analysis = pd.DataFrame(df)\n",
    "\n",
    "cm = sns.dark_palette(\"pink\", reverse=True,as_cmap=True)\n",
    "\n",
    "(analysis.style.background_gradient(cmap=cm)).set_table_styles([{'selector': 'th', 'props': [('font-size', '9pt')]}])"
   ]
  },
  {
   "cell_type": "code",
   "execution_count": 6,
   "metadata": {},
   "outputs": [
    {
     "data": {
      "image/png": "[encoded data removed]",
      "text/plain": [
       "<Figure size 720x432 with 2 Axes>"
      ]
     },
     "metadata": {},
     "output_type": "display_data"
    }
   ],
   "source": [
    "plt.figure(figsize=(10,6))\n",
    "sns.heatmap(df.corr(),annot=True,cmap='rainbow');"
   ]
  },
  {
   "cell_type": "markdown",
   "metadata": {},
   "source": [
    "1. There is both positive and negative correlations in between variables\n",
    "\n",
    "2. Correlation is stong because the highest correlation is 0.95 from positive side and -0.95 from negative side"
   ]
  },
  {
   "cell_type": "code",
   "execution_count": 7,
   "metadata": {},
   "outputs": [
    {
     "data": {
      "text/plain": [
       "<seaborn.axisgrid.PairGrid at 0x1c0b38f8be0>"
      ]
     },
     "execution_count": 7,
     "metadata": {},
     "output_type": "execute_result"
    },
    {
     "data": {
      "image/png": "[encoded data removed]",
      "text/plain": [
       "<Figure size 1260x1260 with 56 Axes>"
      ]
     },
     "metadata": {},
     "output_type": "display_data"
    }
   ],
   "source": [
    "sns.pairplot(df,diag_kind='kde')"
   ]
  },
  {
   "cell_type": "markdown",
   "metadata": {},
   "source": [
    "1. The correlation is strong in between many variables such as Price each and Sales, MSRP and Sales, Price each and MSRP"
   ]
  },
  {
   "cell_type": "markdown",
   "metadata": {},
   "source": [
    "# Time Series Creation to Plot Weekly, Monthly, Quarterly, Yearly Trends in Sales interms of Order Date"
   ]
  },
  {
   "cell_type": "markdown",
   "metadata": {},
   "source": [
    "**Create a DataFrame with Sales and Order Date**"
   ]
  },
  {
   "cell_type": "code",
   "execution_count": 8,
   "metadata": {},
   "outputs": [],
   "source": [
    "df_ts=df[['ORDERDATE','SALES']].copy()"
   ]
  },
  {
   "cell_type": "code",
   "execution_count": 11,
   "metadata": {},
   "outputs": [
    {
     "data": {
      "text/html": [
       "<div>\n",
       "<style scoped>\n",
       "    .dataframe tbody tr th:only-of-type {\n",
       "        vertical-align: middle;\n",
       "    }\n",
       "\n",
       "    .dataframe tbody tr th {\n",
       "        vertical-align: top;\n",
       "    }\n",
       "\n",
       "    .dataframe thead th {\n",
       "        text-align: right;\n",
       "    }\n",
       "</style>\n",
       "<table border=\"1\" class=\"dataframe\">\n",
       "  <thead>\n",
       "    <tr style=\"text-align: right;\">\n",
       "      <th></th>\n",
       "      <th>ORDERDATE</th>\n",
       "      <th>SALES</th>\n",
       "    </tr>\n",
       "  </thead>\n",
       "  <tbody>\n",
       "    <tr>\n",
       "      <th>0</th>\n",
       "      <td>2018-02-24</td>\n",
       "      <td>2871.00</td>\n",
       "    </tr>\n",
       "    <tr>\n",
       "      <th>1</th>\n",
       "      <td>2018-05-07</td>\n",
       "      <td>2765.90</td>\n",
       "    </tr>\n",
       "    <tr>\n",
       "      <th>2</th>\n",
       "      <td>2018-07-01</td>\n",
       "      <td>3884.34</td>\n",
       "    </tr>\n",
       "    <tr>\n",
       "      <th>3</th>\n",
       "      <td>2018-08-25</td>\n",
       "      <td>3746.70</td>\n",
       "    </tr>\n",
       "    <tr>\n",
       "      <th>4</th>\n",
       "      <td>2018-10-28</td>\n",
       "      <td>3479.76</td>\n",
       "    </tr>\n",
       "  </tbody>\n",
       "</table>\n",
       "</div>"
      ],
      "text/plain": [
       "   ORDERDATE    SALES\n",
       "0 2018-02-24  2871.00\n",
       "1 2018-05-07  2765.90\n",
       "2 2018-07-01  3884.34\n",
       "3 2018-08-25  3746.70\n",
       "4 2018-10-28  3479.76"
      ]
     },
     "execution_count": 11,
     "metadata": {},
     "output_type": "execute_result"
    }
   ],
   "source": [
    "df_ts.head()"
   ]
  },
  {
   "cell_type": "code",
   "execution_count": 11,
   "metadata": {},
   "outputs": [],
   "source": [
    "df_ts['TimeStamp']=pd.DataFrame(df_ts,columns=['ORDERDATE'])"
   ]
  },
  {
   "cell_type": "code",
   "execution_count": 12,
   "metadata": {},
   "outputs": [
    {
     "data": {
      "text/html": [
       "<div>\n",
       "<style scoped>\n",
       "    .dataframe tbody tr th:only-of-type {\n",
       "        vertical-align: middle;\n",
       "    }\n",
       "\n",
       "    .dataframe tbody tr th {\n",
       "        vertical-align: top;\n",
       "    }\n",
       "\n",
       "    .dataframe thead th {\n",
       "        text-align: right;\n",
       "    }\n",
       "</style>\n",
       "<table border=\"1\" class=\"dataframe\">\n",
       "  <thead>\n",
       "    <tr style=\"text-align: right;\">\n",
       "      <th></th>\n",
       "      <th>ORDERDATE</th>\n",
       "      <th>SALES</th>\n",
       "    </tr>\n",
       "    <tr>\n",
       "      <th>TimeStamp</th>\n",
       "      <th></th>\n",
       "      <th></th>\n",
       "    </tr>\n",
       "  </thead>\n",
       "  <tbody>\n",
       "    <tr>\n",
       "      <th>2018-02-24</th>\n",
       "      <td>2018-02-24</td>\n",
       "      <td>2871.00</td>\n",
       "    </tr>\n",
       "    <tr>\n",
       "      <th>2018-05-07</th>\n",
       "      <td>2018-05-07</td>\n",
       "      <td>2765.90</td>\n",
       "    </tr>\n",
       "    <tr>\n",
       "      <th>2018-07-01</th>\n",
       "      <td>2018-07-01</td>\n",
       "      <td>3884.34</td>\n",
       "    </tr>\n",
       "    <tr>\n",
       "      <th>2018-08-25</th>\n",
       "      <td>2018-08-25</td>\n",
       "      <td>3746.70</td>\n",
       "    </tr>\n",
       "    <tr>\n",
       "      <th>2018-10-28</th>\n",
       "      <td>2018-10-28</td>\n",
       "      <td>3479.76</td>\n",
       "    </tr>\n",
       "  </tbody>\n",
       "</table>\n",
       "</div>"
      ],
      "text/plain": [
       "            ORDERDATE    SALES\n",
       "TimeStamp                     \n",
       "2018-02-24 2018-02-24  2871.00\n",
       "2018-05-07 2018-05-07  2765.90\n",
       "2018-07-01 2018-07-01  3884.34\n",
       "2018-08-25 2018-08-25  3746.70\n",
       "2018-10-28 2018-10-28  3479.76"
      ]
     },
     "execution_count": 12,
     "metadata": {},
     "output_type": "execute_result"
    }
   ],
   "source": [
    "df_ts.set_index(keys = 'TimeStamp',drop=True,inplace=True)\n",
    "df_ts.head()"
   ]
  },
  {
   "cell_type": "code",
   "execution_count": 13,
   "metadata": {},
   "outputs": [
    {
     "data": {
      "text/html": [
       "<div>\n",
       "<style scoped>\n",
       "    .dataframe tbody tr th:only-of-type {\n",
       "        vertical-align: middle;\n",
       "    }\n",
       "\n",
       "    .dataframe tbody tr th {\n",
       "        vertical-align: top;\n",
       "    }\n",
       "\n",
       "    .dataframe thead th {\n",
       "        text-align: right;\n",
       "    }\n",
       "</style>\n",
       "<table border=\"1\" class=\"dataframe\">\n",
       "  <thead>\n",
       "    <tr style=\"text-align: right;\">\n",
       "      <th></th>\n",
       "      <th>SALES</th>\n",
       "    </tr>\n",
       "    <tr>\n",
       "      <th>TimeStamp</th>\n",
       "      <th></th>\n",
       "    </tr>\n",
       "  </thead>\n",
       "  <tbody>\n",
       "    <tr>\n",
       "      <th>2018-02-24</th>\n",
       "      <td>2871.00</td>\n",
       "    </tr>\n",
       "    <tr>\n",
       "      <th>2018-05-07</th>\n",
       "      <td>2765.90</td>\n",
       "    </tr>\n",
       "    <tr>\n",
       "      <th>2018-07-01</th>\n",
       "      <td>3884.34</td>\n",
       "    </tr>\n",
       "    <tr>\n",
       "      <th>2018-08-25</th>\n",
       "      <td>3746.70</td>\n",
       "    </tr>\n",
       "    <tr>\n",
       "      <th>2018-10-28</th>\n",
       "      <td>3479.76</td>\n",
       "    </tr>\n",
       "  </tbody>\n",
       "</table>\n",
       "</div>"
      ],
      "text/plain": [
       "              SALES\n",
       "TimeStamp          \n",
       "2018-02-24  2871.00\n",
       "2018-05-07  2765.90\n",
       "2018-07-01  3884.34\n",
       "2018-08-25  3746.70\n",
       "2018-10-28  3479.76"
      ]
     },
     "execution_count": 13,
     "metadata": {},
     "output_type": "execute_result"
    }
   ],
   "source": [
    "df_ts.drop(labels='ORDERDATE',inplace=True,axis=1)\n",
    "df_ts.head()"
   ]
  },
  {
   "cell_type": "code",
   "execution_count": 14,
   "metadata": {},
   "outputs": [
    {
     "data": {
      "image/png": "[encoded data removed]",
      "text/plain": [
       "<Figure size 432x288 with 1 Axes>"
      ]
     },
     "metadata": {},
     "output_type": "display_data"
    }
   ],
   "source": [
    "df_ts.plot(color = 'blue');\n",
    "plt.grid()"
   ]
  },
  {
   "cell_type": "markdown",
   "metadata": {},
   "source": [
    "**Trend is uniform but sesonality is present**"
   ]
  },
  {
   "cell_type": "markdown",
   "metadata": {},
   "source": [
    "**Yearly Sales**"
   ]
  },
  {
   "cell_type": "code",
   "execution_count": 15,
   "metadata": {},
   "outputs": [
    {
     "data": {
      "image/png": "[encoded data removed]",
      "text/plain": [
       "<Figure size 936x360 with 1 Axes>"
      ]
     },
     "metadata": {},
     "output_type": "display_data"
    }
   ],
   "source": [
    "plt.figure(figsize=(13,5))\n",
    "sns.boxplot(x=df_ts.index.year,y=df_ts['SALES'],data=df_ts,color='green')\n",
    "plt.grid()\n",
    "plt.xlabel='Year'\n",
    "plt.ylabel='Sales Per Year'"
   ]
  },
  {
   "cell_type": "code",
   "execution_count": 13,
   "metadata": {},
   "outputs": [],
   "source": [
    "yearly_sum=df_ts.resample('A').sum()"
   ]
  },
  {
   "cell_type": "code",
   "execution_count": 14,
   "metadata": {},
   "outputs": [
    {
     "data": {
      "image/png": "[encoded data removed]",
      "text/plain": [
       "<Figure size 432x288 with 1 Axes>"
      ]
     },
     "metadata": {},
     "output_type": "display_data"
    }
   ],
   "source": [
    "yearly_sum.plot();\n",
    "plt.grid();\n",
    "plt.xlabel=('Sum of observation of each month in a year');"
   ]
  },
  {
   "cell_type": "markdown",
   "metadata": {},
   "source": [
    "More number of sales happened in 2019 if we sumup all the months "
   ]
  },
  {
   "cell_type": "markdown",
   "metadata": {},
   "source": [
    "**Monthly Sales**"
   ]
  },
  {
   "cell_type": "code",
   "execution_count": 15,
   "metadata": {},
   "outputs": [
    {
     "data": {
      "image/png": "[encoded data removed]",
      "text/plain": [
       "<Figure size 936x360 with 1 Axes>"
      ]
     },
     "metadata": {},
     "output_type": "display_data"
    }
   ],
   "source": [
    "plt.figure(figsize=(13,5))\n",
    "sns.boxplot(x=df_ts.index.month_name(),y=df_ts['SALES'],data=df_ts)\n",
    "plt.grid()\n",
    "plt.xlabel=('Month')\n",
    "plt.ylabel=('Sales per month')"
   ]
  },
  {
   "cell_type": "markdown",
   "metadata": {},
   "source": [
    "Outlier is present in all the months"
   ]
  },
  {
   "cell_type": "code",
   "execution_count": 16,
   "metadata": {},
   "outputs": [
    {
     "data": {
      "image/png": "[encoded data removed]",
      "text/plain": [
       "<Figure size 936x360 with 1 Axes>"
      ]
     },
     "metadata": {},
     "output_type": "display_data"
    }
   ],
   "source": [
    "plt.figure(figsize=(13,5))\n",
    "sns.barplot(x=df_ts.index.month_name(),y=df_ts['SALES'],data=df_ts)\n",
    "plt.grid()\n",
    "plt.xlabel=('Month')\n",
    "plt.ylabel=('Sales')"
   ]
  },
  {
   "cell_type": "markdown",
   "metadata": {},
   "source": [
    "April month is having more sales"
   ]
  },
  {
   "cell_type": "code",
   "execution_count": 16,
   "metadata": {},
   "outputs": [],
   "source": [
    "Yearly_sales_acorss_months = pd.pivot_table(df_ts, values = 'SALES',\n",
    "                                            columns = df_ts.index.year, index= df_ts.index.month_name())"
   ]
  },
  {
   "cell_type": "code",
   "execution_count": 17,
   "metadata": {},
   "outputs": [
    {
     "data": {
      "text/html": [
       "<div>\n",
       "<style scoped>\n",
       "    .dataframe tbody tr th:only-of-type {\n",
       "        vertical-align: middle;\n",
       "    }\n",
       "\n",
       "    .dataframe tbody tr th {\n",
       "        vertical-align: top;\n",
       "    }\n",
       "\n",
       "    .dataframe thead th {\n",
       "        text-align: right;\n",
       "    }\n",
       "</style>\n",
       "<table border=\"1\" class=\"dataframe\">\n",
       "  <thead>\n",
       "    <tr style=\"text-align: right;\">\n",
       "      <th>TimeStamp</th>\n",
       "      <th>2018</th>\n",
       "      <th>2019</th>\n",
       "      <th>2020</th>\n",
       "    </tr>\n",
       "    <tr>\n",
       "      <th>TimeStamp</th>\n",
       "      <th></th>\n",
       "      <th></th>\n",
       "      <th></th>\n",
       "    </tr>\n",
       "  </thead>\n",
       "  <tbody>\n",
       "    <tr>\n",
       "      <th>April</th>\n",
       "      <td>3476.026724</td>\n",
       "      <td>3221.064375</td>\n",
       "      <td>4672.023036</td>\n",
       "    </tr>\n",
       "    <tr>\n",
       "      <th>August</th>\n",
       "      <td>3410.505172</td>\n",
       "      <td>3469.934361</td>\n",
       "      <td>NaN</td>\n",
       "    </tr>\n",
       "    <tr>\n",
       "      <th>December</th>\n",
       "      <td>3753.088571</td>\n",
       "      <td>3389.115091</td>\n",
       "      <td>NaN</td>\n",
       "    </tr>\n",
       "    <tr>\n",
       "      <th>February</th>\n",
       "      <td>3435.029024</td>\n",
       "      <td>3621.157326</td>\n",
       "      <td>3618.840000</td>\n",
       "    </tr>\n",
       "    <tr>\n",
       "      <th>January</th>\n",
       "      <td>3327.015385</td>\n",
       "      <td>3526.362651</td>\n",
       "      <td>3429.731515</td>\n",
       "    </tr>\n",
       "    <tr>\n",
       "      <th>July</th>\n",
       "      <td>3754.637600</td>\n",
       "      <td>3594.990000</td>\n",
       "      <td>NaN</td>\n",
       "    </tr>\n",
       "    <tr>\n",
       "      <th>June</th>\n",
       "      <td>3653.968696</td>\n",
       "      <td>3372.637882</td>\n",
       "      <td>NaN</td>\n",
       "    </tr>\n",
       "    <tr>\n",
       "      <th>March</th>\n",
       "      <td>3541.120909</td>\n",
       "      <td>3673.816607</td>\n",
       "      <td>3530.780755</td>\n",
       "    </tr>\n",
       "    <tr>\n",
       "      <th>May</th>\n",
       "      <td>3321.950172</td>\n",
       "      <td>3695.113378</td>\n",
       "      <td>3815.508833</td>\n",
       "    </tr>\n",
       "    <tr>\n",
       "      <th>November</th>\n",
       "      <td>3479.181284</td>\n",
       "      <td>3613.308157</td>\n",
       "      <td>NaN</td>\n",
       "    </tr>\n",
       "    <tr>\n",
       "      <th>October</th>\n",
       "      <td>3616.556048</td>\n",
       "      <td>3477.511006</td>\n",
       "      <td>NaN</td>\n",
       "    </tr>\n",
       "    <tr>\n",
       "      <th>September</th>\n",
       "      <td>3473.333684</td>\n",
       "      <td>3376.325368</td>\n",
       "      <td>NaN</td>\n",
       "    </tr>\n",
       "  </tbody>\n",
       "</table>\n",
       "</div>"
      ],
      "text/plain": [
       "TimeStamp         2018         2019         2020\n",
       "TimeStamp                                       \n",
       "April      3476.026724  3221.064375  4672.023036\n",
       "August     3410.505172  3469.934361          NaN\n",
       "December   3753.088571  3389.115091          NaN\n",
       "February   3435.029024  3621.157326  3618.840000\n",
       "January    3327.015385  3526.362651  3429.731515\n",
       "July       3754.637600  3594.990000          NaN\n",
       "June       3653.968696  3372.637882          NaN\n",
       "March      3541.120909  3673.816607  3530.780755\n",
       "May        3321.950172  3695.113378  3815.508833\n",
       "November   3479.181284  3613.308157          NaN\n",
       "October    3616.556048  3477.511006          NaN\n",
       "September  3473.333684  3376.325368          NaN"
      ]
     },
     "execution_count": 17,
     "metadata": {},
     "output_type": "execute_result"
    }
   ],
   "source": [
    "Yearly_sales_acorss_months"
   ]
  },
  {
   "cell_type": "code",
   "execution_count": 18,
   "metadata": {},
   "outputs": [
    {
     "data": {
      "image/png": "[encoded data removed]",
      "text/plain": [
       "<Figure size 864x360 with 1 Axes>"
      ]
     },
     "metadata": {},
     "output_type": "display_data"
    }
   ],
   "source": [
    "fig,ax = plt.subplots(figsize=(12,5))\n",
    "Yearly_sales_acorss_months.plot(ax=ax)\n",
    "plt.grid()\n",
    "plt.legend(loc='best');"
   ]
  },
  {
   "cell_type": "markdown",
   "metadata": {},
   "source": [
    "**Quaterly Sales**"
   ]
  },
  {
   "cell_type": "code",
   "execution_count": 19,
   "metadata": {},
   "outputs": [],
   "source": [
    "quarter_sum=df_ts.resample('Q').sum()"
   ]
  },
  {
   "cell_type": "code",
   "execution_count": 20,
   "metadata": {},
   "outputs": [
    {
     "data": {
      "image/png": "[encoded data removed]",
      "text/plain": [
       "<Figure size 432x288 with 1 Axes>"
      ]
     },
     "metadata": {},
     "output_type": "display_data"
    }
   ],
   "source": [
    "quarter_sum.plot()\n",
    "plt.grid()\n",
    "plt.xlabel=('Sum of observations for each month in each quarter')"
   ]
  },
  {
   "cell_type": "markdown",
   "metadata": {},
   "source": [
    "**Daily Data**"
   ]
  },
  {
   "cell_type": "code",
   "execution_count": 21,
   "metadata": {},
   "outputs": [],
   "source": [
    "daily_sum = df_ts.resample('D').sum()"
   ]
  },
  {
   "cell_type": "code",
   "execution_count": 22,
   "metadata": {},
   "outputs": [
    {
     "data": {
      "image/png": "[encoded data removed]",
      "text/plain": [
       "<Figure size 432x288 with 1 Axes>"
      ]
     },
     "metadata": {},
     "output_type": "display_data"
    }
   ],
   "source": [
    "daily_sum.plot()\n",
    "plt.grid()\n",
    "plt.xlabel=('Daily Observations')"
   ]
  },
  {
   "cell_type": "code",
   "execution_count": 23,
   "metadata": {},
   "outputs": [],
   "source": [
    "weekly_sum = df_ts.resample('W').sum()"
   ]
  },
  {
   "cell_type": "code",
   "execution_count": 24,
   "metadata": {},
   "outputs": [
    {
     "data": {
      "image/png": "[encoded data removed]",
      "text/plain": [
       "<Figure size 432x288 with 1 Axes>"
      ]
     },
     "metadata": {},
     "output_type": "display_data"
    }
   ],
   "source": [
    "weekly_sum.plot()\n",
    "plt.grid()"
   ]
  },
  {
   "cell_type": "markdown",
   "metadata": {},
   "source": [
    "# Customer Segmentation using RFM analysis (4 segments) -> What is RFM? -> What all parameters used and assumptions made?"
   ]
  },
  {
   "cell_type": "markdown",
   "metadata": {},
   "source": [
    "**What is RFM**"
   ]
  },
  {
   "cell_type": "markdown",
   "metadata": {},
   "source": [
    "RFM stands for \n",
    "\n",
    "R :Recency\n",
    "\n",
    "F: Frequency\n",
    "\n",
    "M: Monetary\n",
    "\n",
    "It is basically a Marketting Analysis method which is used to identify the best customers based on their nature of spending habits.\n",
    "\n",
    "Overall, its a customer behaviour segmentation technique such as when was the last purchase, frequency of purchasing and how much they spend\n",
    "\n",
    "A customer having highest in each of the criteria is a best RFM score.\n",
    "\n",
    "RFM helps to manage the advertising and promotional budgets carefully. Also it helps the company to divide the customers based on their behaviour which is easy to apply discount/promotions or advertising accordingly with respect to the groups\n"
   ]
  },
  {
   "cell_type": "code",
   "execution_count": 26,
   "metadata": {},
   "outputs": [],
   "source": [
    "from datetime import datetime\n",
    "now=datetime.now()"
   ]
  },
  {
   "cell_type": "markdown",
   "metadata": {},
   "source": [
    "**Recency**"
   ]
  },
  {
   "cell_type": "code",
   "execution_count": 27,
   "metadata": {},
   "outputs": [
    {
     "data": {
      "text/html": [
       "<div>\n",
       "<style scoped>\n",
       "    .dataframe tbody tr th:only-of-type {\n",
       "        vertical-align: middle;\n",
       "    }\n",
       "\n",
       "    .dataframe tbody tr th {\n",
       "        vertical-align: top;\n",
       "    }\n",
       "\n",
       "    .dataframe thead th {\n",
       "        text-align: right;\n",
       "    }\n",
       "</style>\n",
       "<table border=\"1\" class=\"dataframe\">\n",
       "  <thead>\n",
       "    <tr style=\"text-align: right;\">\n",
       "      <th></th>\n",
       "      <th>CUSTOMERNAME</th>\n",
       "      <th>ORDERDATE</th>\n",
       "    </tr>\n",
       "  </thead>\n",
       "  <tbody>\n",
       "    <tr>\n",
       "      <th>0</th>\n",
       "      <td>AV Stores, Co.</td>\n",
       "      <td>2019-11-17</td>\n",
       "    </tr>\n",
       "    <tr>\n",
       "      <th>1</th>\n",
       "      <td>Alpha Cognac</td>\n",
       "      <td>2020-03-28</td>\n",
       "    </tr>\n",
       "    <tr>\n",
       "      <th>2</th>\n",
       "      <td>Amica Models &amp; Co.</td>\n",
       "      <td>2019-09-09</td>\n",
       "    </tr>\n",
       "    <tr>\n",
       "      <th>3</th>\n",
       "      <td>Anna's Decorations, Ltd</td>\n",
       "      <td>2020-03-09</td>\n",
       "    </tr>\n",
       "    <tr>\n",
       "      <th>4</th>\n",
       "      <td>Atelier graphique</td>\n",
       "      <td>2019-11-25</td>\n",
       "    </tr>\n",
       "    <tr>\n",
       "      <th>...</th>\n",
       "      <td>...</td>\n",
       "      <td>...</td>\n",
       "    </tr>\n",
       "    <tr>\n",
       "      <th>84</th>\n",
       "      <td>Vida Sport, Ltd</td>\n",
       "      <td>2019-08-30</td>\n",
       "    </tr>\n",
       "    <tr>\n",
       "      <th>85</th>\n",
       "      <td>Vitachrome Inc.</td>\n",
       "      <td>2019-11-05</td>\n",
       "    </tr>\n",
       "    <tr>\n",
       "      <th>86</th>\n",
       "      <td>Volvo Model Replicas, Co</td>\n",
       "      <td>2019-11-19</td>\n",
       "    </tr>\n",
       "    <tr>\n",
       "      <th>87</th>\n",
       "      <td>West Coast Collectables Co.</td>\n",
       "      <td>2019-01-29</td>\n",
       "    </tr>\n",
       "    <tr>\n",
       "      <th>88</th>\n",
       "      <td>giftsbymail.co.uk</td>\n",
       "      <td>2019-11-01</td>\n",
       "    </tr>\n",
       "  </tbody>\n",
       "</table>\n",
       "<p>89 rows × 2 columns</p>\n",
       "</div>"
      ],
      "text/plain": [
       "                   CUSTOMERNAME  ORDERDATE\n",
       "0                AV Stores, Co. 2019-11-17\n",
       "1                  Alpha Cognac 2020-03-28\n",
       "2            Amica Models & Co. 2019-09-09\n",
       "3       Anna's Decorations, Ltd 2020-03-09\n",
       "4             Atelier graphique 2019-11-25\n",
       "..                          ...        ...\n",
       "84              Vida Sport, Ltd 2019-08-30\n",
       "85              Vitachrome Inc. 2019-11-05\n",
       "86     Volvo Model Replicas, Co 2019-11-19\n",
       "87  West Coast Collectables Co. 2019-01-29\n",
       "88            giftsbymail.co.uk 2019-11-01\n",
       "\n",
       "[89 rows x 2 columns]"
      ]
     },
     "execution_count": 27,
     "metadata": {},
     "output_type": "execute_result"
    }
   ],
   "source": [
    "df_recency=df.groupby(by='CUSTOMERNAME',as_index=False)['ORDERDATE'].max()\n",
    "df_recency"
   ]
  },
  {
   "cell_type": "code",
   "execution_count": 28,
   "metadata": {},
   "outputs": [],
   "source": [
    "df_recency.columns = ['CUSTOMERNAME','MAX_DATE']"
   ]
  },
  {
   "cell_type": "code",
   "execution_count": 29,
   "metadata": {},
   "outputs": [
    {
     "data": {
      "text/html": [
       "<div>\n",
       "<style scoped>\n",
       "    .dataframe tbody tr th:only-of-type {\n",
       "        vertical-align: middle;\n",
       "    }\n",
       "\n",
       "    .dataframe tbody tr th {\n",
       "        vertical-align: top;\n",
       "    }\n",
       "\n",
       "    .dataframe thead th {\n",
       "        text-align: right;\n",
       "    }\n",
       "</style>\n",
       "<table border=\"1\" class=\"dataframe\">\n",
       "  <thead>\n",
       "    <tr style=\"text-align: right;\">\n",
       "      <th></th>\n",
       "      <th>CUSTOMERNAME</th>\n",
       "      <th>MAX_DATE</th>\n",
       "      <th>RECENCY</th>\n",
       "    </tr>\n",
       "  </thead>\n",
       "  <tbody>\n",
       "    <tr>\n",
       "      <th>0</th>\n",
       "      <td>AV Stores, Co.</td>\n",
       "      <td>2019-11-17</td>\n",
       "      <td>851 days 12:31:32.274760</td>\n",
       "    </tr>\n",
       "    <tr>\n",
       "      <th>1</th>\n",
       "      <td>Alpha Cognac</td>\n",
       "      <td>2020-03-28</td>\n",
       "      <td>719 days 12:31:32.274760</td>\n",
       "    </tr>\n",
       "    <tr>\n",
       "      <th>2</th>\n",
       "      <td>Amica Models &amp; Co.</td>\n",
       "      <td>2019-09-09</td>\n",
       "      <td>920 days 12:31:32.274760</td>\n",
       "    </tr>\n",
       "    <tr>\n",
       "      <th>3</th>\n",
       "      <td>Anna's Decorations, Ltd</td>\n",
       "      <td>2020-03-09</td>\n",
       "      <td>738 days 12:31:32.274760</td>\n",
       "    </tr>\n",
       "    <tr>\n",
       "      <th>4</th>\n",
       "      <td>Atelier graphique</td>\n",
       "      <td>2019-11-25</td>\n",
       "      <td>843 days 12:31:32.274760</td>\n",
       "    </tr>\n",
       "    <tr>\n",
       "      <th>...</th>\n",
       "      <td>...</td>\n",
       "      <td>...</td>\n",
       "      <td>...</td>\n",
       "    </tr>\n",
       "    <tr>\n",
       "      <th>84</th>\n",
       "      <td>Vida Sport, Ltd</td>\n",
       "      <td>2019-08-30</td>\n",
       "      <td>930 days 12:31:32.274760</td>\n",
       "    </tr>\n",
       "    <tr>\n",
       "      <th>85</th>\n",
       "      <td>Vitachrome Inc.</td>\n",
       "      <td>2019-11-05</td>\n",
       "      <td>863 days 12:31:32.274760</td>\n",
       "    </tr>\n",
       "    <tr>\n",
       "      <th>86</th>\n",
       "      <td>Volvo Model Replicas, Co</td>\n",
       "      <td>2019-11-19</td>\n",
       "      <td>849 days 12:31:32.274760</td>\n",
       "    </tr>\n",
       "    <tr>\n",
       "      <th>87</th>\n",
       "      <td>West Coast Collectables Co.</td>\n",
       "      <td>2019-01-29</td>\n",
       "      <td>1143 days 12:31:32.274760</td>\n",
       "    </tr>\n",
       "    <tr>\n",
       "      <th>88</th>\n",
       "      <td>giftsbymail.co.uk</td>\n",
       "      <td>2019-11-01</td>\n",
       "      <td>867 days 12:31:32.274760</td>\n",
       "    </tr>\n",
       "  </tbody>\n",
       "</table>\n",
       "<p>89 rows × 3 columns</p>\n",
       "</div>"
      ],
      "text/plain": [
       "                   CUSTOMERNAME   MAX_DATE                   RECENCY\n",
       "0                AV Stores, Co. 2019-11-17  851 days 12:31:32.274760\n",
       "1                  Alpha Cognac 2020-03-28  719 days 12:31:32.274760\n",
       "2            Amica Models & Co. 2019-09-09  920 days 12:31:32.274760\n",
       "3       Anna's Decorations, Ltd 2020-03-09  738 days 12:31:32.274760\n",
       "4             Atelier graphique 2019-11-25  843 days 12:31:32.274760\n",
       "..                          ...        ...                       ...\n",
       "84              Vida Sport, Ltd 2019-08-30  930 days 12:31:32.274760\n",
       "85              Vitachrome Inc. 2019-11-05  863 days 12:31:32.274760\n",
       "86     Volvo Model Replicas, Co 2019-11-19  849 days 12:31:32.274760\n",
       "87  West Coast Collectables Co. 2019-01-29 1143 days 12:31:32.274760\n",
       "88            giftsbymail.co.uk 2019-11-01  867 days 12:31:32.274760\n",
       "\n",
       "[89 rows x 3 columns]"
      ]
     },
     "execution_count": 29,
     "metadata": {},
     "output_type": "execute_result"
    }
   ],
   "source": [
    "df_recency['RECENCY'] = df_recency['MAX_DATE'].apply(lambda x:now-x)\n",
    "df_recency"
   ]
  },
  {
   "cell_type": "code",
   "execution_count": 30,
   "metadata": {},
   "outputs": [],
   "source": [
    "df_recency['RECENCY']= df_recency['RECENCY'].apply(lambda x:x.days)"
   ]
  },
  {
   "cell_type": "code",
   "execution_count": 31,
   "metadata": {},
   "outputs": [],
   "source": [
    "df_recency.drop('MAX_DATE',inplace=True,axis=1)"
   ]
  },
  {
   "cell_type": "code",
   "execution_count": 32,
   "metadata": {},
   "outputs": [
    {
     "data": {
      "text/html": [
       "<div>\n",
       "<style scoped>\n",
       "    .dataframe tbody tr th:only-of-type {\n",
       "        vertical-align: middle;\n",
       "    }\n",
       "\n",
       "    .dataframe tbody tr th {\n",
       "        vertical-align: top;\n",
       "    }\n",
       "\n",
       "    .dataframe thead th {\n",
       "        text-align: right;\n",
       "    }\n",
       "</style>\n",
       "<table border=\"1\" class=\"dataframe\">\n",
       "  <thead>\n",
       "    <tr style=\"text-align: right;\">\n",
       "      <th></th>\n",
       "      <th>CUSTOMERNAME</th>\n",
       "      <th>RECENCY</th>\n",
       "    </tr>\n",
       "  </thead>\n",
       "  <tbody>\n",
       "    <tr>\n",
       "      <th>0</th>\n",
       "      <td>AV Stores, Co.</td>\n",
       "      <td>851</td>\n",
       "    </tr>\n",
       "    <tr>\n",
       "      <th>1</th>\n",
       "      <td>Alpha Cognac</td>\n",
       "      <td>719</td>\n",
       "    </tr>\n",
       "    <tr>\n",
       "      <th>2</th>\n",
       "      <td>Amica Models &amp; Co.</td>\n",
       "      <td>920</td>\n",
       "    </tr>\n",
       "    <tr>\n",
       "      <th>3</th>\n",
       "      <td>Anna's Decorations, Ltd</td>\n",
       "      <td>738</td>\n",
       "    </tr>\n",
       "    <tr>\n",
       "      <th>4</th>\n",
       "      <td>Atelier graphique</td>\n",
       "      <td>843</td>\n",
       "    </tr>\n",
       "    <tr>\n",
       "      <th>...</th>\n",
       "      <td>...</td>\n",
       "      <td>...</td>\n",
       "    </tr>\n",
       "    <tr>\n",
       "      <th>84</th>\n",
       "      <td>Vida Sport, Ltd</td>\n",
       "      <td>930</td>\n",
       "    </tr>\n",
       "    <tr>\n",
       "      <th>85</th>\n",
       "      <td>Vitachrome Inc.</td>\n",
       "      <td>863</td>\n",
       "    </tr>\n",
       "    <tr>\n",
       "      <th>86</th>\n",
       "      <td>Volvo Model Replicas, Co</td>\n",
       "      <td>849</td>\n",
       "    </tr>\n",
       "    <tr>\n",
       "      <th>87</th>\n",
       "      <td>West Coast Collectables Co.</td>\n",
       "      <td>1143</td>\n",
       "    </tr>\n",
       "    <tr>\n",
       "      <th>88</th>\n",
       "      <td>giftsbymail.co.uk</td>\n",
       "      <td>867</td>\n",
       "    </tr>\n",
       "  </tbody>\n",
       "</table>\n",
       "<p>89 rows × 2 columns</p>\n",
       "</div>"
      ],
      "text/plain": [
       "                   CUSTOMERNAME  RECENCY\n",
       "0                AV Stores, Co.      851\n",
       "1                  Alpha Cognac      719\n",
       "2            Amica Models & Co.      920\n",
       "3       Anna's Decorations, Ltd      738\n",
       "4             Atelier graphique      843\n",
       "..                          ...      ...\n",
       "84              Vida Sport, Ltd      930\n",
       "85              Vitachrome Inc.      863\n",
       "86     Volvo Model Replicas, Co      849\n",
       "87  West Coast Collectables Co.     1143\n",
       "88            giftsbymail.co.uk      867\n",
       "\n",
       "[89 rows x 2 columns]"
      ]
     },
     "execution_count": 32,
     "metadata": {},
     "output_type": "execute_result"
    }
   ],
   "source": [
    "df_recency"
   ]
  },
  {
   "cell_type": "code",
   "execution_count": 10,
   "metadata": {},
   "outputs": [
    {
     "name": "stdout",
     "output_type": "stream",
     "text": [
      "<class 'pandas.core.frame.DataFrame'>\n",
      "Int64Index: 89 entries, 0 to 88\n",
      "Data columns (total 2 columns):\n",
      " #   Column        Non-Null Count  Dtype \n",
      "---  ------        --------------  ----- \n",
      " 0   CUSTOMERNAME  89 non-null     object\n",
      " 1   RECENCY       89 non-null     int64 \n",
      "dtypes: int64(1), object(1)\n",
      "memory usage: 2.1+ KB\n"
     ]
    }
   ],
   "source": [
    "df_recency.info()"
   ]
  },
  {
   "cell_type": "code",
   "execution_count": 33,
   "metadata": {},
   "outputs": [
    {
     "data": {
      "image/png": "[encoded data removed]",
      "text/plain": [
       "<Figure size 720x360 with 1 Axes>"
      ]
     },
     "metadata": {},
     "output_type": "display_data"
    }
   ],
   "source": [
    "plt.figure(figsize=(10,5))\n",
    "sns.distplot(df_recency['RECENCY'],color='blue');\n",
    "plt.grid()"
   ]
  },
  {
   "cell_type": "markdown",
   "metadata": {},
   "source": [
    "**Frequency**"
   ]
  },
  {
   "cell_type": "code",
   "execution_count": 35,
   "metadata": {},
   "outputs": [
    {
     "data": {
      "text/html": [
       "<div>\n",
       "<style scoped>\n",
       "    .dataframe tbody tr th:only-of-type {\n",
       "        vertical-align: middle;\n",
       "    }\n",
       "\n",
       "    .dataframe tbody tr th {\n",
       "        vertical-align: top;\n",
       "    }\n",
       "\n",
       "    .dataframe thead th {\n",
       "        text-align: right;\n",
       "    }\n",
       "</style>\n",
       "<table border=\"1\" class=\"dataframe\">\n",
       "  <thead>\n",
       "    <tr style=\"text-align: right;\">\n",
       "      <th></th>\n",
       "      <th>CUSTOMERNAME</th>\n",
       "      <th>ORDERNUMBER</th>\n",
       "    </tr>\n",
       "  </thead>\n",
       "  <tbody>\n",
       "    <tr>\n",
       "      <th>0</th>\n",
       "      <td>AV Stores, Co.</td>\n",
       "      <td>51</td>\n",
       "    </tr>\n",
       "    <tr>\n",
       "      <th>1</th>\n",
       "      <td>Alpha Cognac</td>\n",
       "      <td>20</td>\n",
       "    </tr>\n",
       "    <tr>\n",
       "      <th>2</th>\n",
       "      <td>Amica Models &amp; Co.</td>\n",
       "      <td>26</td>\n",
       "    </tr>\n",
       "    <tr>\n",
       "      <th>3</th>\n",
       "      <td>Anna's Decorations, Ltd</td>\n",
       "      <td>46</td>\n",
       "    </tr>\n",
       "    <tr>\n",
       "      <th>4</th>\n",
       "      <td>Atelier graphique</td>\n",
       "      <td>7</td>\n",
       "    </tr>\n",
       "    <tr>\n",
       "      <th>...</th>\n",
       "      <td>...</td>\n",
       "      <td>...</td>\n",
       "    </tr>\n",
       "    <tr>\n",
       "      <th>84</th>\n",
       "      <td>Vida Sport, Ltd</td>\n",
       "      <td>31</td>\n",
       "    </tr>\n",
       "    <tr>\n",
       "      <th>85</th>\n",
       "      <td>Vitachrome Inc.</td>\n",
       "      <td>25</td>\n",
       "    </tr>\n",
       "    <tr>\n",
       "      <th>86</th>\n",
       "      <td>Volvo Model Replicas, Co</td>\n",
       "      <td>19</td>\n",
       "    </tr>\n",
       "    <tr>\n",
       "      <th>87</th>\n",
       "      <td>West Coast Collectables Co.</td>\n",
       "      <td>13</td>\n",
       "    </tr>\n",
       "    <tr>\n",
       "      <th>88</th>\n",
       "      <td>giftsbymail.co.uk</td>\n",
       "      <td>26</td>\n",
       "    </tr>\n",
       "  </tbody>\n",
       "</table>\n",
       "<p>89 rows × 2 columns</p>\n",
       "</div>"
      ],
      "text/plain": [
       "                   CUSTOMERNAME  ORDERNUMBER\n",
       "0                AV Stores, Co.           51\n",
       "1                  Alpha Cognac           20\n",
       "2            Amica Models & Co.           26\n",
       "3       Anna's Decorations, Ltd           46\n",
       "4             Atelier graphique            7\n",
       "..                          ...          ...\n",
       "84              Vida Sport, Ltd           31\n",
       "85              Vitachrome Inc.           25\n",
       "86     Volvo Model Replicas, Co           19\n",
       "87  West Coast Collectables Co.           13\n",
       "88            giftsbymail.co.uk           26\n",
       "\n",
       "[89 rows x 2 columns]"
      ]
     },
     "execution_count": 35,
     "metadata": {},
     "output_type": "execute_result"
    }
   ],
   "source": [
    "df_frequency = df.groupby(by='CUSTOMERNAME',as_index=False)['ORDERNUMBER'].count()\n",
    "df_frequency"
   ]
  },
  {
   "cell_type": "code",
   "execution_count": 36,
   "metadata": {},
   "outputs": [],
   "source": [
    "df_frequency.columns = ['CUSTOMERNAME','FREQUENCY']"
   ]
  },
  {
   "cell_type": "code",
   "execution_count": 37,
   "metadata": {},
   "outputs": [
    {
     "data": {
      "text/html": [
       "<div>\n",
       "<style scoped>\n",
       "    .dataframe tbody tr th:only-of-type {\n",
       "        vertical-align: middle;\n",
       "    }\n",
       "\n",
       "    .dataframe tbody tr th {\n",
       "        vertical-align: top;\n",
       "    }\n",
       "\n",
       "    .dataframe thead th {\n",
       "        text-align: right;\n",
       "    }\n",
       "</style>\n",
       "<table border=\"1\" class=\"dataframe\">\n",
       "  <thead>\n",
       "    <tr style=\"text-align: right;\">\n",
       "      <th></th>\n",
       "      <th>CUSTOMERNAME</th>\n",
       "      <th>FREQUENCY</th>\n",
       "    </tr>\n",
       "  </thead>\n",
       "  <tbody>\n",
       "    <tr>\n",
       "      <th>0</th>\n",
       "      <td>AV Stores, Co.</td>\n",
       "      <td>51</td>\n",
       "    </tr>\n",
       "    <tr>\n",
       "      <th>1</th>\n",
       "      <td>Alpha Cognac</td>\n",
       "      <td>20</td>\n",
       "    </tr>\n",
       "    <tr>\n",
       "      <th>2</th>\n",
       "      <td>Amica Models &amp; Co.</td>\n",
       "      <td>26</td>\n",
       "    </tr>\n",
       "    <tr>\n",
       "      <th>3</th>\n",
       "      <td>Anna's Decorations, Ltd</td>\n",
       "      <td>46</td>\n",
       "    </tr>\n",
       "    <tr>\n",
       "      <th>4</th>\n",
       "      <td>Atelier graphique</td>\n",
       "      <td>7</td>\n",
       "    </tr>\n",
       "    <tr>\n",
       "      <th>...</th>\n",
       "      <td>...</td>\n",
       "      <td>...</td>\n",
       "    </tr>\n",
       "    <tr>\n",
       "      <th>84</th>\n",
       "      <td>Vida Sport, Ltd</td>\n",
       "      <td>31</td>\n",
       "    </tr>\n",
       "    <tr>\n",
       "      <th>85</th>\n",
       "      <td>Vitachrome Inc.</td>\n",
       "      <td>25</td>\n",
       "    </tr>\n",
       "    <tr>\n",
       "      <th>86</th>\n",
       "      <td>Volvo Model Replicas, Co</td>\n",
       "      <td>19</td>\n",
       "    </tr>\n",
       "    <tr>\n",
       "      <th>87</th>\n",
       "      <td>West Coast Collectables Co.</td>\n",
       "      <td>13</td>\n",
       "    </tr>\n",
       "    <tr>\n",
       "      <th>88</th>\n",
       "      <td>giftsbymail.co.uk</td>\n",
       "      <td>26</td>\n",
       "    </tr>\n",
       "  </tbody>\n",
       "</table>\n",
       "<p>89 rows × 2 columns</p>\n",
       "</div>"
      ],
      "text/plain": [
       "                   CUSTOMERNAME  FREQUENCY\n",
       "0                AV Stores, Co.         51\n",
       "1                  Alpha Cognac         20\n",
       "2            Amica Models & Co.         26\n",
       "3       Anna's Decorations, Ltd         46\n",
       "4             Atelier graphique          7\n",
       "..                          ...        ...\n",
       "84              Vida Sport, Ltd         31\n",
       "85              Vitachrome Inc.         25\n",
       "86     Volvo Model Replicas, Co         19\n",
       "87  West Coast Collectables Co.         13\n",
       "88            giftsbymail.co.uk         26\n",
       "\n",
       "[89 rows x 2 columns]"
      ]
     },
     "execution_count": 37,
     "metadata": {},
     "output_type": "execute_result"
    }
   ],
   "source": [
    "df_frequency"
   ]
  },
  {
   "cell_type": "code",
   "execution_count": 18,
   "metadata": {},
   "outputs": [
    {
     "name": "stdout",
     "output_type": "stream",
     "text": [
      "<class 'pandas.core.frame.DataFrame'>\n",
      "Int64Index: 89 entries, 0 to 88\n",
      "Data columns (total 2 columns):\n",
      " #   Column        Non-Null Count  Dtype \n",
      "---  ------        --------------  ----- \n",
      " 0   CUSTOMERNAME  89 non-null     object\n",
      " 1   FREQUENCY     89 non-null     int64 \n",
      "dtypes: int64(1), object(1)\n",
      "memory usage: 2.1+ KB\n"
     ]
    }
   ],
   "source": [
    "df_frequency.info()"
   ]
  },
  {
   "cell_type": "code",
   "execution_count": 38,
   "metadata": {},
   "outputs": [
    {
     "data": {
      "image/png": "[encoded data removed]",
      "text/plain": [
       "<Figure size 720x360 with 1 Axes>"
      ]
     },
     "metadata": {},
     "output_type": "display_data"
    }
   ],
   "source": [
    "plt.figure(figsize=(10,5))\n",
    "sns.distplot(df_frequency['FREQUENCY'],color='blue');\n",
    "plt.grid()"
   ]
  },
  {
   "cell_type": "markdown",
   "metadata": {},
   "source": [
    "**Monetary**"
   ]
  },
  {
   "cell_type": "code",
   "execution_count": 39,
   "metadata": {},
   "outputs": [],
   "source": [
    "df_monetary = df.groupby(by='CUSTOMERNAME',as_index=False)['PRICEEACH'].sum()"
   ]
  },
  {
   "cell_type": "code",
   "execution_count": 70,
   "metadata": {},
   "outputs": [],
   "source": [
    "#df_monetary1['CUSTOMERNAME']=df['CUSTOMERNAME'].copy()\n",
    "#df_monetary1['total_money']=(df['PRICEEACH'] * df['QUANTITYORDERED'])\n",
    "#df_monetary=df_monetary1.groupby(by='CUSTOMERNAME',as_index=False) .agg({'total_money': 'sum'})"
   ]
  },
  {
   "cell_type": "code",
   "execution_count": 40,
   "metadata": {},
   "outputs": [],
   "source": [
    "df_monetary.columns = ['CUSTOMERNAME','MONETARY']"
   ]
  },
  {
   "cell_type": "code",
   "execution_count": 41,
   "metadata": {},
   "outputs": [
    {
     "data": {
      "text/html": [
       "<div>\n",
       "<style scoped>\n",
       "    .dataframe tbody tr th:only-of-type {\n",
       "        vertical-align: middle;\n",
       "    }\n",
       "\n",
       "    .dataframe tbody tr th {\n",
       "        vertical-align: top;\n",
       "    }\n",
       "\n",
       "    .dataframe thead th {\n",
       "        text-align: right;\n",
       "    }\n",
       "</style>\n",
       "<table border=\"1\" class=\"dataframe\">\n",
       "  <thead>\n",
       "    <tr style=\"text-align: right;\">\n",
       "      <th></th>\n",
       "      <th>CUSTOMERNAME</th>\n",
       "      <th>MONETARY</th>\n",
       "    </tr>\n",
       "  </thead>\n",
       "  <tbody>\n",
       "    <tr>\n",
       "      <th>0</th>\n",
       "      <td>AV Stores, Co.</td>\n",
       "      <td>4645.31</td>\n",
       "    </tr>\n",
       "    <tr>\n",
       "      <th>1</th>\n",
       "      <td>Alpha Cognac</td>\n",
       "      <td>2023.20</td>\n",
       "    </tr>\n",
       "    <tr>\n",
       "      <th>2</th>\n",
       "      <td>Amica Models &amp; Co.</td>\n",
       "      <td>2882.17</td>\n",
       "    </tr>\n",
       "    <tr>\n",
       "      <th>3</th>\n",
       "      <td>Anna's Decorations, Ltd</td>\n",
       "      <td>4895.51</td>\n",
       "    </tr>\n",
       "    <tr>\n",
       "      <th>4</th>\n",
       "      <td>Atelier graphique</td>\n",
       "      <td>645.67</td>\n",
       "    </tr>\n",
       "    <tr>\n",
       "      <th>...</th>\n",
       "      <td>...</td>\n",
       "      <td>...</td>\n",
       "    </tr>\n",
       "    <tr>\n",
       "      <th>84</th>\n",
       "      <td>Vida Sport, Ltd</td>\n",
       "      <td>3474.33</td>\n",
       "    </tr>\n",
       "    <tr>\n",
       "      <th>85</th>\n",
       "      <td>Vitachrome Inc.</td>\n",
       "      <td>2654.47</td>\n",
       "    </tr>\n",
       "    <tr>\n",
       "      <th>86</th>\n",
       "      <td>Volvo Model Replicas, Co</td>\n",
       "      <td>2266.49</td>\n",
       "    </tr>\n",
       "    <tr>\n",
       "      <th>87</th>\n",
       "      <td>West Coast Collectables Co.</td>\n",
       "      <td>1148.00</td>\n",
       "    </tr>\n",
       "    <tr>\n",
       "      <th>88</th>\n",
       "      <td>giftsbymail.co.uk</td>\n",
       "      <td>2313.45</td>\n",
       "    </tr>\n",
       "  </tbody>\n",
       "</table>\n",
       "<p>89 rows × 2 columns</p>\n",
       "</div>"
      ],
      "text/plain": [
       "                   CUSTOMERNAME  MONETARY\n",
       "0                AV Stores, Co.   4645.31\n",
       "1                  Alpha Cognac   2023.20\n",
       "2            Amica Models & Co.   2882.17\n",
       "3       Anna's Decorations, Ltd   4895.51\n",
       "4             Atelier graphique    645.67\n",
       "..                          ...       ...\n",
       "84              Vida Sport, Ltd   3474.33\n",
       "85              Vitachrome Inc.   2654.47\n",
       "86     Volvo Model Replicas, Co   2266.49\n",
       "87  West Coast Collectables Co.   1148.00\n",
       "88            giftsbymail.co.uk   2313.45\n",
       "\n",
       "[89 rows x 2 columns]"
      ]
     },
     "execution_count": 41,
     "metadata": {},
     "output_type": "execute_result"
    }
   ],
   "source": [
    "df_monetary"
   ]
  },
  {
   "cell_type": "code",
   "execution_count": 42,
   "metadata": {},
   "outputs": [
    {
     "name": "stdout",
     "output_type": "stream",
     "text": [
      "<class 'pandas.core.frame.DataFrame'>\n",
      "Int64Index: 89 entries, 0 to 88\n",
      "Data columns (total 2 columns):\n",
      " #   Column        Non-Null Count  Dtype  \n",
      "---  ------        --------------  -----  \n",
      " 0   CUSTOMERNAME  89 non-null     object \n",
      " 1   MONETARY      89 non-null     float64\n",
      "dtypes: float64(1), object(1)\n",
      "memory usage: 2.1+ KB\n"
     ]
    }
   ],
   "source": [
    "df_monetary.info()"
   ]
  },
  {
   "cell_type": "code",
   "execution_count": 43,
   "metadata": {},
   "outputs": [
    {
     "data": {
      "image/png": "[encoded data removed]",
      "text/plain": [
       "<Figure size 720x360 with 1 Axes>"
      ]
     },
     "metadata": {},
     "output_type": "display_data"
    }
   ],
   "source": [
    "plt.figure(figsize=(10,5))\n",
    "sns.distplot(df_monetary['MONETARY'],color='blue')\n",
    "plt.grid();"
   ]
  },
  {
   "cell_type": "code",
   "execution_count": 44,
   "metadata": {},
   "outputs": [],
   "source": [
    "rfm=df_recency.merge(df_frequency,on='CUSTOMERNAME')"
   ]
  },
  {
   "cell_type": "code",
   "execution_count": 45,
   "metadata": {},
   "outputs": [],
   "source": [
    "rfm_1=rfm.merge(df_monetary,on='CUSTOMERNAME')"
   ]
  },
  {
   "cell_type": "code",
   "execution_count": 46,
   "metadata": {},
   "outputs": [
    {
     "data": {
      "text/html": [
       "<div>\n",
       "<style scoped>\n",
       "    .dataframe tbody tr th:only-of-type {\n",
       "        vertical-align: middle;\n",
       "    }\n",
       "\n",
       "    .dataframe tbody tr th {\n",
       "        vertical-align: top;\n",
       "    }\n",
       "\n",
       "    .dataframe thead th {\n",
       "        text-align: right;\n",
       "    }\n",
       "</style>\n",
       "<table border=\"1\" class=\"dataframe\">\n",
       "  <thead>\n",
       "    <tr style=\"text-align: right;\">\n",
       "      <th></th>\n",
       "      <th>CUSTOMERNAME</th>\n",
       "      <th>RECENCY</th>\n",
       "      <th>FREQUENCY</th>\n",
       "      <th>MONETARY</th>\n",
       "    </tr>\n",
       "  </thead>\n",
       "  <tbody>\n",
       "    <tr>\n",
       "      <th>0</th>\n",
       "      <td>AV Stores, Co.</td>\n",
       "      <td>851</td>\n",
       "      <td>51</td>\n",
       "      <td>4645.31</td>\n",
       "    </tr>\n",
       "    <tr>\n",
       "      <th>1</th>\n",
       "      <td>Alpha Cognac</td>\n",
       "      <td>719</td>\n",
       "      <td>20</td>\n",
       "      <td>2023.20</td>\n",
       "    </tr>\n",
       "    <tr>\n",
       "      <th>2</th>\n",
       "      <td>Amica Models &amp; Co.</td>\n",
       "      <td>920</td>\n",
       "      <td>26</td>\n",
       "      <td>2882.17</td>\n",
       "    </tr>\n",
       "    <tr>\n",
       "      <th>3</th>\n",
       "      <td>Anna's Decorations, Ltd</td>\n",
       "      <td>738</td>\n",
       "      <td>46</td>\n",
       "      <td>4895.51</td>\n",
       "    </tr>\n",
       "    <tr>\n",
       "      <th>4</th>\n",
       "      <td>Atelier graphique</td>\n",
       "      <td>843</td>\n",
       "      <td>7</td>\n",
       "      <td>645.67</td>\n",
       "    </tr>\n",
       "  </tbody>\n",
       "</table>\n",
       "</div>"
      ],
      "text/plain": [
       "              CUSTOMERNAME  RECENCY  FREQUENCY  MONETARY\n",
       "0           AV Stores, Co.      851         51   4645.31\n",
       "1             Alpha Cognac      719         20   2023.20\n",
       "2       Amica Models & Co.      920         26   2882.17\n",
       "3  Anna's Decorations, Ltd      738         46   4895.51\n",
       "4        Atelier graphique      843          7    645.67"
      ]
     },
     "execution_count": 46,
     "metadata": {},
     "output_type": "execute_result"
    }
   ],
   "source": [
    "rfm_1.head()"
   ]
  },
  {
   "cell_type": "code",
   "execution_count": 48,
   "metadata": {},
   "outputs": [],
   "source": [
    "rfm_1.to_excel(r'C:\\Users\\jpradhan\\Downloads\\MRA_Milestone1\\RFM.xlsx', index = False)"
   ]
  },
  {
   "cell_type": "code",
   "execution_count": 49,
   "metadata": {},
   "outputs": [
    {
     "name": "stdout",
     "output_type": "stream",
     "text": [
      "<class 'pandas.core.frame.DataFrame'>\n",
      "Int64Index: 89 entries, 0 to 88\n",
      "Data columns (total 4 columns):\n",
      " #   Column        Non-Null Count  Dtype  \n",
      "---  ------        --------------  -----  \n",
      " 0   CUSTOMERNAME  89 non-null     object \n",
      " 1   RECENCY       89 non-null     int64  \n",
      " 2   FREQUENCY     89 non-null     int64  \n",
      " 3   MONETARY      89 non-null     float64\n",
      "dtypes: float64(1), int64(2), object(1)\n",
      "memory usage: 3.5+ KB\n"
     ]
    }
   ],
   "source": [
    "rfm_1.info()"
   ]
  },
  {
   "cell_type": "code",
   "execution_count": 50,
   "metadata": {},
   "outputs": [
    {
     "data": {
      "text/plain": [
       "<seaborn.axisgrid.PairGrid at 0x22c6f51dda0>"
      ]
     },
     "execution_count": 50,
     "metadata": {},
     "output_type": "execute_result"
    },
    {
     "data": {
      "image/png": "[encoded data removed]",
      "text/plain": [
       "<Figure size 540x540 with 12 Axes>"
      ]
     },
     "metadata": {},
     "output_type": "display_data"
    }
   ],
   "source": [
    "sns.pairplot(rfm_1,diag_kind='kde')"
   ]
  },
  {
   "cell_type": "markdown",
   "metadata": {},
   "source": [
    "**Customer Segmentation**"
   ]
  },
  {
   "cell_type": "code",
   "execution_count": 51,
   "metadata": {},
   "outputs": [],
   "source": [
    "from crm_rfm_modeling import rfm\n",
    "from crm_rfm_modeling.rfm import RFM"
   ]
  },
  {
   "cell_type": "code",
   "execution_count": 66,
   "metadata": {},
   "outputs": [],
   "source": [
    "model = rfm_1.quantile(q=[0.25,0.5,0.75])"
   ]
  },
  {
   "cell_type": "code",
   "execution_count": 53,
   "metadata": {},
   "outputs": [
    {
     "data": {
      "text/html": [
       "<div>\n",
       "<style scoped>\n",
       "    .dataframe tbody tr th:only-of-type {\n",
       "        vertical-align: middle;\n",
       "    }\n",
       "\n",
       "    .dataframe tbody tr th {\n",
       "        vertical-align: top;\n",
       "    }\n",
       "\n",
       "    .dataframe thead th {\n",
       "        text-align: right;\n",
       "    }\n",
       "</style>\n",
       "<table border=\"1\" class=\"dataframe\">\n",
       "  <thead>\n",
       "    <tr style=\"text-align: right;\">\n",
       "      <th></th>\n",
       "      <th>RECENCY</th>\n",
       "      <th>FREQUENCY</th>\n",
       "      <th>MONETARY</th>\n",
       "    </tr>\n",
       "  </thead>\n",
       "  <tbody>\n",
       "    <tr>\n",
       "      <th>0.25</th>\n",
       "      <td>730.0</td>\n",
       "      <td>20.0</td>\n",
       "      <td>1998.28</td>\n",
       "    </tr>\n",
       "    <tr>\n",
       "      <th>0.50</th>\n",
       "      <td>839.0</td>\n",
       "      <td>26.0</td>\n",
       "      <td>2521.83</td>\n",
       "    </tr>\n",
       "    <tr>\n",
       "      <th>0.75</th>\n",
       "      <td>885.0</td>\n",
       "      <td>32.0</td>\n",
       "      <td>3441.34</td>\n",
       "    </tr>\n",
       "  </tbody>\n",
       "</table>\n",
       "</div>"
      ],
      "text/plain": [
       "      RECENCY  FREQUENCY  MONETARY\n",
       "0.25    730.0       20.0   1998.28\n",
       "0.50    839.0       26.0   2521.83\n",
       "0.75    885.0       32.0   3441.34"
      ]
     },
     "execution_count": 53,
     "metadata": {},
     "output_type": "execute_result"
    }
   ],
   "source": [
    "model"
   ]
  },
  {
   "cell_type": "code",
   "execution_count": 31,
   "metadata": {},
   "outputs": [],
   "source": [
    "#df_1=rfm_1[['RECENCY','FREQUENCY','MONETARY']]"
   ]
  },
  {
   "cell_type": "code",
   "execution_count": 32,
   "metadata": {},
   "outputs": [],
   "source": [
    "#df_1.columns=['recency','frequency','monetary']"
   ]
  },
  {
   "cell_type": "code",
   "execution_count": 68,
   "metadata": {},
   "outputs": [
    {
     "data": {
      "text/plain": [
       "{'FREQUENCY': {0.25: 20.0, 0.5: 26.0, 0.75: 32.0},\n",
       " 'Frequency_Quartile': {0.25: 1.0, 0.5: 2.0, 0.75: 3.0},\n",
       " 'MONETARY': {0.25: 1998.2800000000002,\n",
       "  0.5: 2521.8299999999995,\n",
       "  0.75: 3441.34},\n",
       " 'Monetary_Quartile': {0.25: 1.0, 0.5: 2.0, 0.75: 3.0},\n",
       " 'RECENCY': {0.25: 730.0, 0.5: 839.0, 0.75: 885.0},\n",
       " 'Recency_Quartile': {0.25: 2.0, 0.5: 3.0, 0.75: 4.0}}"
      ]
     },
     "execution_count": 68,
     "metadata": {},
     "output_type": "execute_result"
    }
   ],
   "source": [
    "model.to_dict()"
   ]
  },
  {
   "cell_type": "code",
   "execution_count": 40,
   "metadata": {},
   "outputs": [],
   "source": [
    "#model.summary_statistics()"
   ]
  },
  {
   "cell_type": "code",
   "execution_count": 42,
   "metadata": {},
   "outputs": [],
   "source": [
    "#df_fitted=model.fitted_data\n",
    "#df_fitted.head()"
   ]
  },
  {
   "cell_type": "code",
   "execution_count": 69,
   "metadata": {},
   "outputs": [],
   "source": [
    "def RScore(x,p,d):\n",
    "    if x <= d[p][0.25]:\n",
    "        return 4\n",
    "    elif x <= d[p][0.50]:\n",
    "        return 3\n",
    "    elif x <= d[p][0.75]: \n",
    "        return 2\n",
    "    else:\n",
    "        return 1"
   ]
  },
  {
   "cell_type": "code",
   "execution_count": 70,
   "metadata": {},
   "outputs": [],
   "source": [
    "def FMScore(x,p,d):\n",
    "    if x <= d[p][0.25]:\n",
    "        return 1\n",
    "    elif x <= d[p][0.50]:\n",
    "        return 2\n",
    "    elif x <= d[p][0.75]: \n",
    "        return 3\n",
    "    else:\n",
    "        return 4"
   ]
  },
  {
   "cell_type": "code",
   "execution_count": 71,
   "metadata": {},
   "outputs": [],
   "source": [
    "rfm_seg = rfm_1\n",
    "rfm_seg['Recency_Quartile'] = rfm_seg['RECENCY'].apply(RScore, args=('RECENCY',model,))\n",
    "rfm_seg['Frequency_Quartile'] = rfm_seg['FREQUENCY'].apply(FMScore, args=('FREQUENCY',model,))\n",
    "rfm_seg['Monetary_Quartile'] = rfm_seg['MONETARY'].apply(FMScore, args=('MONETARY',model,))"
   ]
  },
  {
   "cell_type": "code",
   "execution_count": 72,
   "metadata": {},
   "outputs": [
    {
     "data": {
      "text/html": [
       "<div>\n",
       "<style scoped>\n",
       "    .dataframe tbody tr th:only-of-type {\n",
       "        vertical-align: middle;\n",
       "    }\n",
       "\n",
       "    .dataframe tbody tr th {\n",
       "        vertical-align: top;\n",
       "    }\n",
       "\n",
       "    .dataframe thead th {\n",
       "        text-align: right;\n",
       "    }\n",
       "</style>\n",
       "<table border=\"1\" class=\"dataframe\">\n",
       "  <thead>\n",
       "    <tr style=\"text-align: right;\">\n",
       "      <th></th>\n",
       "      <th>CUSTOMERNAME</th>\n",
       "      <th>RECENCY</th>\n",
       "      <th>FREQUENCY</th>\n",
       "      <th>MONETARY</th>\n",
       "      <th>Recency_Quartile</th>\n",
       "      <th>Frequency_Quartile</th>\n",
       "      <th>Monetary_Quartile</th>\n",
       "      <th>RFMScore</th>\n",
       "    </tr>\n",
       "  </thead>\n",
       "  <tbody>\n",
       "    <tr>\n",
       "      <th>0</th>\n",
       "      <td>AV Stores, Co.</td>\n",
       "      <td>851</td>\n",
       "      <td>51</td>\n",
       "      <td>4645.31</td>\n",
       "      <td>2</td>\n",
       "      <td>4</td>\n",
       "      <td>4</td>\n",
       "      <td>244</td>\n",
       "    </tr>\n",
       "    <tr>\n",
       "      <th>1</th>\n",
       "      <td>Alpha Cognac</td>\n",
       "      <td>719</td>\n",
       "      <td>20</td>\n",
       "      <td>2023.20</td>\n",
       "      <td>4</td>\n",
       "      <td>1</td>\n",
       "      <td>2</td>\n",
       "      <td>412</td>\n",
       "    </tr>\n",
       "    <tr>\n",
       "      <th>2</th>\n",
       "      <td>Amica Models &amp; Co.</td>\n",
       "      <td>920</td>\n",
       "      <td>26</td>\n",
       "      <td>2882.17</td>\n",
       "      <td>1</td>\n",
       "      <td>2</td>\n",
       "      <td>3</td>\n",
       "      <td>123</td>\n",
       "    </tr>\n",
       "    <tr>\n",
       "      <th>3</th>\n",
       "      <td>Anna's Decorations, Ltd</td>\n",
       "      <td>738</td>\n",
       "      <td>46</td>\n",
       "      <td>4895.51</td>\n",
       "      <td>3</td>\n",
       "      <td>4</td>\n",
       "      <td>4</td>\n",
       "      <td>344</td>\n",
       "    </tr>\n",
       "    <tr>\n",
       "      <th>4</th>\n",
       "      <td>Atelier graphique</td>\n",
       "      <td>843</td>\n",
       "      <td>7</td>\n",
       "      <td>645.67</td>\n",
       "      <td>2</td>\n",
       "      <td>1</td>\n",
       "      <td>1</td>\n",
       "      <td>211</td>\n",
       "    </tr>\n",
       "  </tbody>\n",
       "</table>\n",
       "</div>"
      ],
      "text/plain": [
       "              CUSTOMERNAME  RECENCY  FREQUENCY  MONETARY  Recency_Quartile  \\\n",
       "0           AV Stores, Co.      851         51   4645.31                 2   \n",
       "1             Alpha Cognac      719         20   2023.20                 4   \n",
       "2       Amica Models & Co.      920         26   2882.17                 1   \n",
       "3  Anna's Decorations, Ltd      738         46   4895.51                 3   \n",
       "4        Atelier graphique      843          7    645.67                 2   \n",
       "\n",
       "   Frequency_Quartile  Monetary_Quartile RFMScore  \n",
       "0                   4                  4      244  \n",
       "1                   1                  2      412  \n",
       "2                   2                  3      123  \n",
       "3                   4                  4      344  \n",
       "4                   1                  1      211  "
      ]
     },
     "execution_count": 72,
     "metadata": {},
     "output_type": "execute_result"
    }
   ],
   "source": [
    "rfm_seg.head()"
   ]
  },
  {
   "cell_type": "code",
   "execution_count": 73,
   "metadata": {},
   "outputs": [
    {
     "data": {
      "text/html": [
       "<div>\n",
       "<style scoped>\n",
       "    .dataframe tbody tr th:only-of-type {\n",
       "        vertical-align: middle;\n",
       "    }\n",
       "\n",
       "    .dataframe tbody tr th {\n",
       "        vertical-align: top;\n",
       "    }\n",
       "\n",
       "    .dataframe thead th {\n",
       "        text-align: right;\n",
       "    }\n",
       "</style>\n",
       "<table border=\"1\" class=\"dataframe\">\n",
       "  <thead>\n",
       "    <tr style=\"text-align: right;\">\n",
       "      <th></th>\n",
       "      <th>CUSTOMERNAME</th>\n",
       "      <th>RECENCY</th>\n",
       "      <th>FREQUENCY</th>\n",
       "      <th>MONETARY</th>\n",
       "      <th>Recency_Quartile</th>\n",
       "      <th>Frequency_Quartile</th>\n",
       "      <th>Monetary_Quartile</th>\n",
       "      <th>RFMScore</th>\n",
       "    </tr>\n",
       "  </thead>\n",
       "  <tbody>\n",
       "    <tr>\n",
       "      <th>0</th>\n",
       "      <td>AV Stores, Co.</td>\n",
       "      <td>851</td>\n",
       "      <td>51</td>\n",
       "      <td>4645.31</td>\n",
       "      <td>2</td>\n",
       "      <td>4</td>\n",
       "      <td>4</td>\n",
       "      <td>244</td>\n",
       "    </tr>\n",
       "    <tr>\n",
       "      <th>1</th>\n",
       "      <td>Alpha Cognac</td>\n",
       "      <td>719</td>\n",
       "      <td>20</td>\n",
       "      <td>2023.20</td>\n",
       "      <td>4</td>\n",
       "      <td>1</td>\n",
       "      <td>2</td>\n",
       "      <td>412</td>\n",
       "    </tr>\n",
       "    <tr>\n",
       "      <th>2</th>\n",
       "      <td>Amica Models &amp; Co.</td>\n",
       "      <td>920</td>\n",
       "      <td>26</td>\n",
       "      <td>2882.17</td>\n",
       "      <td>1</td>\n",
       "      <td>2</td>\n",
       "      <td>3</td>\n",
       "      <td>123</td>\n",
       "    </tr>\n",
       "    <tr>\n",
       "      <th>3</th>\n",
       "      <td>Anna's Decorations, Ltd</td>\n",
       "      <td>738</td>\n",
       "      <td>46</td>\n",
       "      <td>4895.51</td>\n",
       "      <td>3</td>\n",
       "      <td>4</td>\n",
       "      <td>4</td>\n",
       "      <td>344</td>\n",
       "    </tr>\n",
       "    <tr>\n",
       "      <th>4</th>\n",
       "      <td>Atelier graphique</td>\n",
       "      <td>843</td>\n",
       "      <td>7</td>\n",
       "      <td>645.67</td>\n",
       "      <td>2</td>\n",
       "      <td>1</td>\n",
       "      <td>1</td>\n",
       "      <td>211</td>\n",
       "    </tr>\n",
       "  </tbody>\n",
       "</table>\n",
       "</div>"
      ],
      "text/plain": [
       "              CUSTOMERNAME  RECENCY  FREQUENCY  MONETARY  Recency_Quartile  \\\n",
       "0           AV Stores, Co.      851         51   4645.31                 2   \n",
       "1             Alpha Cognac      719         20   2023.20                 4   \n",
       "2       Amica Models & Co.      920         26   2882.17                 1   \n",
       "3  Anna's Decorations, Ltd      738         46   4895.51                 3   \n",
       "4        Atelier graphique      843          7    645.67                 2   \n",
       "\n",
       "   Frequency_Quartile  Monetary_Quartile RFMScore  \n",
       "0                   4                  4      244  \n",
       "1                   1                  2      412  \n",
       "2                   2                  3      123  \n",
       "3                   4                  4      344  \n",
       "4                   1                  1      211  "
      ]
     },
     "execution_count": 73,
     "metadata": {},
     "output_type": "execute_result"
    }
   ],
   "source": [
    "rfm_seg['RFMScore'] = rfm_seg.Recency_Quartile.map(str) \\\n",
    "                            + rfm_seg.Frequency_Quartile.map(str) \\\n",
    "                            + rfm_seg.Monetary_Quartile.map(str)\n",
    "rfm_seg.head()"
   ]
  },
  {
   "cell_type": "code",
   "execution_count": 60,
   "metadata": {},
   "outputs": [],
   "source": [
    "rfm_seg.to_excel(r'C:\\Users\\jpradhan\\Downloads\\MRA_Milestone1\\RFM_Final.xlsx', index = False)"
   ]
  },
  {
   "cell_type": "markdown",
   "metadata": {},
   "source": [
    "# Inferences from RFM Analysis and identified segments -> Who are your best customers? (give at least 5) -> Which customers are on the verge of churning? (give at least 5) -> Who are your lost customers? (give at least 5) -> Who are your loyal customers? (give at least 5)"
   ]
  },
  {
   "cell_type": "markdown",
   "metadata": {},
   "source": [
    "**Best Customers**"
   ]
  },
  {
   "cell_type": "code",
   "execution_count": 74,
   "metadata": {},
   "outputs": [
    {
     "data": {
      "text/html": [
       "<div>\n",
       "<style scoped>\n",
       "    .dataframe tbody tr th:only-of-type {\n",
       "        vertical-align: middle;\n",
       "    }\n",
       "\n",
       "    .dataframe tbody tr th {\n",
       "        vertical-align: top;\n",
       "    }\n",
       "\n",
       "    .dataframe thead th {\n",
       "        text-align: right;\n",
       "    }\n",
       "</style>\n",
       "<table border=\"1\" class=\"dataframe\">\n",
       "  <thead>\n",
       "    <tr style=\"text-align: right;\">\n",
       "      <th></th>\n",
       "      <th>CUSTOMERNAME</th>\n",
       "      <th>RECENCY</th>\n",
       "      <th>FREQUENCY</th>\n",
       "      <th>MONETARY</th>\n",
       "      <th>Recency_Quartile</th>\n",
       "      <th>Frequency_Quartile</th>\n",
       "      <th>Monetary_Quartile</th>\n",
       "      <th>RFMScore</th>\n",
       "    </tr>\n",
       "  </thead>\n",
       "  <tbody>\n",
       "    <tr>\n",
       "      <th>26</th>\n",
       "      <td>Danish Wholesale Imports</td>\n",
       "      <td>701</td>\n",
       "      <td>36</td>\n",
       "      <td>3889.360000</td>\n",
       "      <td>4</td>\n",
       "      <td>4</td>\n",
       "      <td>4</td>\n",
       "      <td>444</td>\n",
       "    </tr>\n",
       "    <tr>\n",
       "      <th>32</th>\n",
       "      <td>Euro Shopping Channel</td>\n",
       "      <td>655</td>\n",
       "      <td>259</td>\n",
       "      <td>25222.250000</td>\n",
       "      <td>4</td>\n",
       "      <td>4</td>\n",
       "      <td>4</td>\n",
       "      <td>444</td>\n",
       "    </tr>\n",
       "    <tr>\n",
       "      <th>41</th>\n",
       "      <td>L'ordine Souveniers</td>\n",
       "      <td>676</td>\n",
       "      <td>39</td>\n",
       "      <td>4334.750000</td>\n",
       "      <td>4</td>\n",
       "      <td>4</td>\n",
       "      <td>4</td>\n",
       "      <td>444</td>\n",
       "    </tr>\n",
       "    <tr>\n",
       "      <th>43</th>\n",
       "      <td>La Rochelle Gifts</td>\n",
       "      <td>655</td>\n",
       "      <td>53</td>\n",
       "      <td>5143.459070</td>\n",
       "      <td>4</td>\n",
       "      <td>4</td>\n",
       "      <td>4</td>\n",
       "      <td>444</td>\n",
       "    </tr>\n",
       "    <tr>\n",
       "      <th>53</th>\n",
       "      <td>Mini Gifts Distributors Ltd.</td>\n",
       "      <td>657</td>\n",
       "      <td>180</td>\n",
       "      <td>18485.340417</td>\n",
       "      <td>4</td>\n",
       "      <td>4</td>\n",
       "      <td>4</td>\n",
       "      <td>444</td>\n",
       "    </tr>\n",
       "  </tbody>\n",
       "</table>\n",
       "</div>"
      ],
      "text/plain": [
       "                    CUSTOMERNAME  RECENCY  FREQUENCY      MONETARY  \\\n",
       "26      Danish Wholesale Imports      701         36   3889.360000   \n",
       "32         Euro Shopping Channel      655        259  25222.250000   \n",
       "41           L'ordine Souveniers      676         39   4334.750000   \n",
       "43             La Rochelle Gifts      655         53   5143.459070   \n",
       "53  Mini Gifts Distributors Ltd.      657        180  18485.340417   \n",
       "\n",
       "    Recency_Quartile  Frequency_Quartile  Monetary_Quartile RFMScore  \n",
       "26                 4                   4                  4      444  \n",
       "32                 4                   4                  4      444  \n",
       "41                 4                   4                  4      444  \n",
       "43                 4                   4                  4      444  \n",
       "53                 4                   4                  4      444  "
      ]
     },
     "execution_count": 74,
     "metadata": {},
     "output_type": "execute_result"
    }
   ],
   "source": [
    "rfm_seg.sort_values(['Recency_Quartile','Frequency_Quartile','Monetary_Quartile'],ascending=[False,False,False]).head(5)"
   ]
  },
  {
   "cell_type": "markdown",
   "metadata": {},
   "source": [
    "**Loyal Customer**"
   ]
  },
  {
   "cell_type": "code",
   "execution_count": 75,
   "metadata": {},
   "outputs": [
    {
     "data": {
      "text/html": [
       "<div>\n",
       "<style scoped>\n",
       "    .dataframe tbody tr th:only-of-type {\n",
       "        vertical-align: middle;\n",
       "    }\n",
       "\n",
       "    .dataframe tbody tr th {\n",
       "        vertical-align: top;\n",
       "    }\n",
       "\n",
       "    .dataframe thead th {\n",
       "        text-align: right;\n",
       "    }\n",
       "</style>\n",
       "<table border=\"1\" class=\"dataframe\">\n",
       "  <thead>\n",
       "    <tr style=\"text-align: right;\">\n",
       "      <th></th>\n",
       "      <th>CUSTOMERNAME</th>\n",
       "      <th>RECENCY</th>\n",
       "      <th>FREQUENCY</th>\n",
       "      <th>MONETARY</th>\n",
       "      <th>Recency_Quartile</th>\n",
       "      <th>Frequency_Quartile</th>\n",
       "      <th>Monetary_Quartile</th>\n",
       "      <th>RFMScore</th>\n",
       "    </tr>\n",
       "  </thead>\n",
       "  <tbody>\n",
       "    <tr>\n",
       "      <th>0</th>\n",
       "      <td>AV Stores, Co.</td>\n",
       "      <td>851</td>\n",
       "      <td>51</td>\n",
       "      <td>4645.31</td>\n",
       "      <td>2</td>\n",
       "      <td>4</td>\n",
       "      <td>4</td>\n",
       "      <td>244</td>\n",
       "    </tr>\n",
       "    <tr>\n",
       "      <th>3</th>\n",
       "      <td>Anna's Decorations, Ltd</td>\n",
       "      <td>738</td>\n",
       "      <td>46</td>\n",
       "      <td>4895.51</td>\n",
       "      <td>3</td>\n",
       "      <td>4</td>\n",
       "      <td>4</td>\n",
       "      <td>344</td>\n",
       "    </tr>\n",
       "    <tr>\n",
       "      <th>6</th>\n",
       "      <td>Australian Collectors, Co.</td>\n",
       "      <td>839</td>\n",
       "      <td>55</td>\n",
       "      <td>5752.46</td>\n",
       "      <td>3</td>\n",
       "      <td>4</td>\n",
       "      <td>4</td>\n",
       "      <td>344</td>\n",
       "    </tr>\n",
       "    <tr>\n",
       "      <th>26</th>\n",
       "      <td>Danish Wholesale Imports</td>\n",
       "      <td>701</td>\n",
       "      <td>36</td>\n",
       "      <td>3889.36</td>\n",
       "      <td>4</td>\n",
       "      <td>4</td>\n",
       "      <td>4</td>\n",
       "      <td>444</td>\n",
       "    </tr>\n",
       "    <tr>\n",
       "      <th>30</th>\n",
       "      <td>Dragon Souveniers, Ltd.</td>\n",
       "      <td>745</td>\n",
       "      <td>43</td>\n",
       "      <td>4863.54</td>\n",
       "      <td>3</td>\n",
       "      <td>4</td>\n",
       "      <td>4</td>\n",
       "      <td>344</td>\n",
       "    </tr>\n",
       "  </tbody>\n",
       "</table>\n",
       "</div>"
      ],
      "text/plain": [
       "                  CUSTOMERNAME  RECENCY  FREQUENCY  MONETARY  \\\n",
       "0               AV Stores, Co.      851         51   4645.31   \n",
       "3      Anna's Decorations, Ltd      738         46   4895.51   \n",
       "6   Australian Collectors, Co.      839         55   5752.46   \n",
       "26    Danish Wholesale Imports      701         36   3889.36   \n",
       "30     Dragon Souveniers, Ltd.      745         43   4863.54   \n",
       "\n",
       "    Recency_Quartile  Frequency_Quartile  Monetary_Quartile RFMScore  \n",
       "0                  2                   4                  4      244  \n",
       "3                  3                   4                  4      344  \n",
       "6                  3                   4                  4      344  \n",
       "26                 4                   4                  4      444  \n",
       "30                 3                   4                  4      344  "
      ]
     },
     "execution_count": 75,
     "metadata": {},
     "output_type": "execute_result"
    }
   ],
   "source": [
    "rfm_seg[rfm_seg['Frequency_Quartile']==4].head()"
   ]
  },
  {
   "cell_type": "markdown",
   "metadata": {},
   "source": [
    "**Lost Customers**"
   ]
  },
  {
   "cell_type": "code",
   "execution_count": 76,
   "metadata": {},
   "outputs": [
    {
     "data": {
      "text/html": [
       "<div>\n",
       "<style scoped>\n",
       "    .dataframe tbody tr th:only-of-type {\n",
       "        vertical-align: middle;\n",
       "    }\n",
       "\n",
       "    .dataframe tbody tr th {\n",
       "        vertical-align: top;\n",
       "    }\n",
       "\n",
       "    .dataframe thead th {\n",
       "        text-align: right;\n",
       "    }\n",
       "</style>\n",
       "<table border=\"1\" class=\"dataframe\">\n",
       "  <thead>\n",
       "    <tr style=\"text-align: right;\">\n",
       "      <th></th>\n",
       "      <th>CUSTOMERNAME</th>\n",
       "      <th>RECENCY</th>\n",
       "      <th>FREQUENCY</th>\n",
       "      <th>MONETARY</th>\n",
       "      <th>Recency_Quartile</th>\n",
       "      <th>Frequency_Quartile</th>\n",
       "      <th>Monetary_Quartile</th>\n",
       "      <th>RFMScore</th>\n",
       "    </tr>\n",
       "  </thead>\n",
       "  <tbody>\n",
       "    <tr>\n",
       "      <th>68</th>\n",
       "      <td>Saveley &amp; Henriot, Co.</td>\n",
       "      <td>1111</td>\n",
       "      <td>41</td>\n",
       "      <td>4122.47</td>\n",
       "      <td>1</td>\n",
       "      <td>4</td>\n",
       "      <td>4</td>\n",
       "      <td>144</td>\n",
       "    </tr>\n",
       "  </tbody>\n",
       "</table>\n",
       "</div>"
      ],
      "text/plain": [
       "              CUSTOMERNAME  RECENCY  FREQUENCY  MONETARY  Recency_Quartile  \\\n",
       "68  Saveley & Henriot, Co.     1111         41   4122.47                 1   \n",
       "\n",
       "    Frequency_Quartile  Monetary_Quartile RFMScore  \n",
       "68                   4                  4      144  "
      ]
     },
     "execution_count": 76,
     "metadata": {},
     "output_type": "execute_result"
    }
   ],
   "source": [
    "rfm_seg[rfm_seg['RFMScore']=='144']"
   ]
  },
  {
   "cell_type": "code",
   "execution_count": 77,
   "metadata": {},
   "outputs": [
    {
     "data": {
      "text/html": [
       "<div>\n",
       "<style scoped>\n",
       "    .dataframe tbody tr th:only-of-type {\n",
       "        vertical-align: middle;\n",
       "    }\n",
       "\n",
       "    .dataframe tbody tr th {\n",
       "        vertical-align: top;\n",
       "    }\n",
       "\n",
       "    .dataframe thead th {\n",
       "        text-align: right;\n",
       "    }\n",
       "</style>\n",
       "<table border=\"1\" class=\"dataframe\">\n",
       "  <thead>\n",
       "    <tr style=\"text-align: right;\">\n",
       "      <th></th>\n",
       "      <th>CUSTOMERNAME</th>\n",
       "      <th>RECENCY</th>\n",
       "      <th>FREQUENCY</th>\n",
       "      <th>MONETARY</th>\n",
       "      <th>Recency_Quartile</th>\n",
       "      <th>Frequency_Quartile</th>\n",
       "      <th>Monetary_Quartile</th>\n",
       "      <th>RFMScore</th>\n",
       "    </tr>\n",
       "  </thead>\n",
       "  <tbody>\n",
       "    <tr>\n",
       "      <th>8</th>\n",
       "      <td>Auto Assoc. &amp; Cie.</td>\n",
       "      <td>888</td>\n",
       "      <td>18</td>\n",
       "      <td>1790.780426</td>\n",
       "      <td>1</td>\n",
       "      <td>1</td>\n",
       "      <td>1</td>\n",
       "      <td>111</td>\n",
       "    </tr>\n",
       "    <tr>\n",
       "      <th>12</th>\n",
       "      <td>Bavarian Collectables Imports, Co.</td>\n",
       "      <td>914</td>\n",
       "      <td>14</td>\n",
       "      <td>1180.050000</td>\n",
       "      <td>1</td>\n",
       "      <td>1</td>\n",
       "      <td>1</td>\n",
       "      <td>111</td>\n",
       "    </tr>\n",
       "    <tr>\n",
       "      <th>15</th>\n",
       "      <td>CAF Imports</td>\n",
       "      <td>1094</td>\n",
       "      <td>13</td>\n",
       "      <td>1364.520000</td>\n",
       "      <td>1</td>\n",
       "      <td>1</td>\n",
       "      <td>1</td>\n",
       "      <td>111</td>\n",
       "    </tr>\n",
       "    <tr>\n",
       "      <th>16</th>\n",
       "      <td>Cambridge Collectables Co.</td>\n",
       "      <td>1044</td>\n",
       "      <td>11</td>\n",
       "      <td>1114.620000</td>\n",
       "      <td>1</td>\n",
       "      <td>1</td>\n",
       "      <td>1</td>\n",
       "      <td>111</td>\n",
       "    </tr>\n",
       "    <tr>\n",
       "      <th>20</th>\n",
       "      <td>Clover Collections, Co.</td>\n",
       "      <td>913</td>\n",
       "      <td>16</td>\n",
       "      <td>1805.920000</td>\n",
       "      <td>1</td>\n",
       "      <td>1</td>\n",
       "      <td>1</td>\n",
       "      <td>111</td>\n",
       "    </tr>\n",
       "  </tbody>\n",
       "</table>\n",
       "</div>"
      ],
      "text/plain": [
       "                          CUSTOMERNAME  RECENCY  FREQUENCY     MONETARY  \\\n",
       "8                   Auto Assoc. & Cie.      888         18  1790.780426   \n",
       "12  Bavarian Collectables Imports, Co.      914         14  1180.050000   \n",
       "15                         CAF Imports     1094         13  1364.520000   \n",
       "16          Cambridge Collectables Co.     1044         11  1114.620000   \n",
       "20             Clover Collections, Co.      913         16  1805.920000   \n",
       "\n",
       "    Recency_Quartile  Frequency_Quartile  Monetary_Quartile RFMScore  \n",
       "8                  1                   1                  1      111  \n",
       "12                 1                   1                  1      111  \n",
       "15                 1                   1                  1      111  \n",
       "16                 1                   1                  1      111  \n",
       "20                 1                   1                  1      111  "
      ]
     },
     "execution_count": 77,
     "metadata": {},
     "output_type": "execute_result"
    }
   ],
   "source": [
    "rfm_seg[rfm_seg['RFMScore']=='111'].head()"
   ]
  },
  {
   "cell_type": "markdown",
   "metadata": {},
   "source": [
    "**Churning Customers**"
   ]
  },
  {
   "cell_type": "code",
   "execution_count": 78,
   "metadata": {},
   "outputs": [
    {
     "data": {
      "text/html": [
       "<div>\n",
       "<style scoped>\n",
       "    .dataframe tbody tr th:only-of-type {\n",
       "        vertical-align: middle;\n",
       "    }\n",
       "\n",
       "    .dataframe tbody tr th {\n",
       "        vertical-align: top;\n",
       "    }\n",
       "\n",
       "    .dataframe thead th {\n",
       "        text-align: right;\n",
       "    }\n",
       "</style>\n",
       "<table border=\"1\" class=\"dataframe\">\n",
       "  <thead>\n",
       "    <tr style=\"text-align: right;\">\n",
       "      <th></th>\n",
       "      <th>CUSTOMERNAME</th>\n",
       "      <th>RECENCY</th>\n",
       "      <th>FREQUENCY</th>\n",
       "      <th>MONETARY</th>\n",
       "      <th>Recency_Quartile</th>\n",
       "      <th>Frequency_Quartile</th>\n",
       "      <th>Monetary_Quartile</th>\n",
       "      <th>RFMScore</th>\n",
       "    </tr>\n",
       "  </thead>\n",
       "  <tbody>\n",
       "    <tr>\n",
       "      <th>0</th>\n",
       "      <td>AV Stores, Co.</td>\n",
       "      <td>851</td>\n",
       "      <td>51</td>\n",
       "      <td>4645.31</td>\n",
       "      <td>2</td>\n",
       "      <td>4</td>\n",
       "      <td>4</td>\n",
       "      <td>244</td>\n",
       "    </tr>\n",
       "    <tr>\n",
       "      <th>44</th>\n",
       "      <td>Land of Toys Inc.</td>\n",
       "      <td>853</td>\n",
       "      <td>49</td>\n",
       "      <td>5101.91</td>\n",
       "      <td>2</td>\n",
       "      <td>4</td>\n",
       "      <td>4</td>\n",
       "      <td>244</td>\n",
       "    </tr>\n",
       "    <tr>\n",
       "      <th>57</th>\n",
       "      <td>Online Diecast Creations Co.</td>\n",
       "      <td>864</td>\n",
       "      <td>34</td>\n",
       "      <td>3682.27</td>\n",
       "      <td>2</td>\n",
       "      <td>4</td>\n",
       "      <td>4</td>\n",
       "      <td>244</td>\n",
       "    </tr>\n",
       "    <tr>\n",
       "      <th>64</th>\n",
       "      <td>Rovelli Gifts</td>\n",
       "      <td>856</td>\n",
       "      <td>48</td>\n",
       "      <td>4112.51</td>\n",
       "      <td>2</td>\n",
       "      <td>4</td>\n",
       "      <td>4</td>\n",
       "      <td>244</td>\n",
       "    </tr>\n",
       "  </tbody>\n",
       "</table>\n",
       "</div>"
      ],
      "text/plain": [
       "                    CUSTOMERNAME  RECENCY  FREQUENCY  MONETARY  \\\n",
       "0                 AV Stores, Co.      851         51   4645.31   \n",
       "44             Land of Toys Inc.      853         49   5101.91   \n",
       "57  Online Diecast Creations Co.      864         34   3682.27   \n",
       "64                 Rovelli Gifts      856         48   4112.51   \n",
       "\n",
       "    Recency_Quartile  Frequency_Quartile  Monetary_Quartile RFMScore  \n",
       "0                  2                   4                  4      244  \n",
       "44                 2                   4                  4      244  \n",
       "57                 2                   4                  4      244  \n",
       "64                 2                   4                  4      244  "
      ]
     },
     "execution_count": 78,
     "metadata": {},
     "output_type": "execute_result"
    }
   ],
   "source": [
    "rfm_seg[rfm_seg['RFMScore']=='244'].head()"
   ]
  },
  {
   "cell_type": "markdown",
   "metadata": {},
   "source": [
    "**Most spent Customer**"
   ]
  },
  {
   "cell_type": "code",
   "execution_count": 79,
   "metadata": {},
   "outputs": [
    {
     "data": {
      "text/html": [
       "<div>\n",
       "<style scoped>\n",
       "    .dataframe tbody tr th:only-of-type {\n",
       "        vertical-align: middle;\n",
       "    }\n",
       "\n",
       "    .dataframe tbody tr th {\n",
       "        vertical-align: top;\n",
       "    }\n",
       "\n",
       "    .dataframe thead th {\n",
       "        text-align: right;\n",
       "    }\n",
       "</style>\n",
       "<table border=\"1\" class=\"dataframe\">\n",
       "  <thead>\n",
       "    <tr style=\"text-align: right;\">\n",
       "      <th></th>\n",
       "      <th>CUSTOMERNAME</th>\n",
       "      <th>RECENCY</th>\n",
       "      <th>FREQUENCY</th>\n",
       "      <th>MONETARY</th>\n",
       "      <th>Recency_Quartile</th>\n",
       "      <th>Frequency_Quartile</th>\n",
       "      <th>Monetary_Quartile</th>\n",
       "      <th>RFMScore</th>\n",
       "    </tr>\n",
       "  </thead>\n",
       "  <tbody>\n",
       "    <tr>\n",
       "      <th>0</th>\n",
       "      <td>AV Stores, Co.</td>\n",
       "      <td>851</td>\n",
       "      <td>51</td>\n",
       "      <td>4645.310000</td>\n",
       "      <td>2</td>\n",
       "      <td>4</td>\n",
       "      <td>4</td>\n",
       "      <td>244</td>\n",
       "    </tr>\n",
       "    <tr>\n",
       "      <th>3</th>\n",
       "      <td>Anna's Decorations, Ltd</td>\n",
       "      <td>738</td>\n",
       "      <td>46</td>\n",
       "      <td>4895.510000</td>\n",
       "      <td>3</td>\n",
       "      <td>4</td>\n",
       "      <td>4</td>\n",
       "      <td>344</td>\n",
       "    </tr>\n",
       "    <tr>\n",
       "      <th>6</th>\n",
       "      <td>Australian Collectors, Co.</td>\n",
       "      <td>839</td>\n",
       "      <td>55</td>\n",
       "      <td>5752.460000</td>\n",
       "      <td>3</td>\n",
       "      <td>4</td>\n",
       "      <td>4</td>\n",
       "      <td>344</td>\n",
       "    </tr>\n",
       "    <tr>\n",
       "      <th>11</th>\n",
       "      <td>Baane Mini Imports</td>\n",
       "      <td>863</td>\n",
       "      <td>32</td>\n",
       "      <td>3474.360000</td>\n",
       "      <td>2</td>\n",
       "      <td>3</td>\n",
       "      <td>4</td>\n",
       "      <td>234</td>\n",
       "    </tr>\n",
       "    <tr>\n",
       "      <th>26</th>\n",
       "      <td>Danish Wholesale Imports</td>\n",
       "      <td>701</td>\n",
       "      <td>36</td>\n",
       "      <td>3889.360000</td>\n",
       "      <td>4</td>\n",
       "      <td>4</td>\n",
       "      <td>4</td>\n",
       "      <td>444</td>\n",
       "    </tr>\n",
       "    <tr>\n",
       "      <th>30</th>\n",
       "      <td>Dragon Souveniers, Ltd.</td>\n",
       "      <td>745</td>\n",
       "      <td>43</td>\n",
       "      <td>4863.540000</td>\n",
       "      <td>3</td>\n",
       "      <td>4</td>\n",
       "      <td>4</td>\n",
       "      <td>344</td>\n",
       "    </tr>\n",
       "    <tr>\n",
       "      <th>32</th>\n",
       "      <td>Euro Shopping Channel</td>\n",
       "      <td>655</td>\n",
       "      <td>259</td>\n",
       "      <td>25222.250000</td>\n",
       "      <td>4</td>\n",
       "      <td>4</td>\n",
       "      <td>4</td>\n",
       "      <td>444</td>\n",
       "    </tr>\n",
       "    <tr>\n",
       "      <th>41</th>\n",
       "      <td>L'ordine Souveniers</td>\n",
       "      <td>676</td>\n",
       "      <td>39</td>\n",
       "      <td>4334.750000</td>\n",
       "      <td>4</td>\n",
       "      <td>4</td>\n",
       "      <td>4</td>\n",
       "      <td>444</td>\n",
       "    </tr>\n",
       "    <tr>\n",
       "      <th>43</th>\n",
       "      <td>La Rochelle Gifts</td>\n",
       "      <td>655</td>\n",
       "      <td>53</td>\n",
       "      <td>5143.459070</td>\n",
       "      <td>4</td>\n",
       "      <td>4</td>\n",
       "      <td>4</td>\n",
       "      <td>444</td>\n",
       "    </tr>\n",
       "    <tr>\n",
       "      <th>44</th>\n",
       "      <td>Land of Toys Inc.</td>\n",
       "      <td>853</td>\n",
       "      <td>49</td>\n",
       "      <td>5101.910000</td>\n",
       "      <td>2</td>\n",
       "      <td>4</td>\n",
       "      <td>4</td>\n",
       "      <td>244</td>\n",
       "    </tr>\n",
       "    <tr>\n",
       "      <th>53</th>\n",
       "      <td>Mini Gifts Distributors Ltd.</td>\n",
       "      <td>657</td>\n",
       "      <td>180</td>\n",
       "      <td>18485.340417</td>\n",
       "      <td>4</td>\n",
       "      <td>4</td>\n",
       "      <td>4</td>\n",
       "      <td>444</td>\n",
       "    </tr>\n",
       "    <tr>\n",
       "      <th>55</th>\n",
       "      <td>Muscle Machine Inc</td>\n",
       "      <td>837</td>\n",
       "      <td>48</td>\n",
       "      <td>5335.240000</td>\n",
       "      <td>3</td>\n",
       "      <td>4</td>\n",
       "      <td>4</td>\n",
       "      <td>344</td>\n",
       "    </tr>\n",
       "    <tr>\n",
       "      <th>57</th>\n",
       "      <td>Online Diecast Creations Co.</td>\n",
       "      <td>864</td>\n",
       "      <td>34</td>\n",
       "      <td>3682.270000</td>\n",
       "      <td>2</td>\n",
       "      <td>4</td>\n",
       "      <td>4</td>\n",
       "      <td>244</td>\n",
       "    </tr>\n",
       "    <tr>\n",
       "      <th>63</th>\n",
       "      <td>Reims Collectables</td>\n",
       "      <td>717</td>\n",
       "      <td>41</td>\n",
       "      <td>3868.060000</td>\n",
       "      <td>4</td>\n",
       "      <td>4</td>\n",
       "      <td>4</td>\n",
       "      <td>444</td>\n",
       "    </tr>\n",
       "    <tr>\n",
       "      <th>64</th>\n",
       "      <td>Rovelli Gifts</td>\n",
       "      <td>856</td>\n",
       "      <td>48</td>\n",
       "      <td>4112.510000</td>\n",
       "      <td>2</td>\n",
       "      <td>4</td>\n",
       "      <td>4</td>\n",
       "      <td>244</td>\n",
       "    </tr>\n",
       "    <tr>\n",
       "      <th>67</th>\n",
       "      <td>Salzburg Collectables</td>\n",
       "      <td>669</td>\n",
       "      <td>40</td>\n",
       "      <td>4055.910000</td>\n",
       "      <td>4</td>\n",
       "      <td>4</td>\n",
       "      <td>4</td>\n",
       "      <td>444</td>\n",
       "    </tr>\n",
       "    <tr>\n",
       "      <th>68</th>\n",
       "      <td>Saveley &amp; Henriot, Co.</td>\n",
       "      <td>1111</td>\n",
       "      <td>41</td>\n",
       "      <td>4122.470000</td>\n",
       "      <td>1</td>\n",
       "      <td>4</td>\n",
       "      <td>4</td>\n",
       "      <td>144</td>\n",
       "    </tr>\n",
       "    <tr>\n",
       "      <th>69</th>\n",
       "      <td>Scandinavian Gift Ideas</td>\n",
       "      <td>744</td>\n",
       "      <td>38</td>\n",
       "      <td>3708.700000</td>\n",
       "      <td>3</td>\n",
       "      <td>4</td>\n",
       "      <td>4</td>\n",
       "      <td>344</td>\n",
       "    </tr>\n",
       "    <tr>\n",
       "      <th>72</th>\n",
       "      <td>Souveniers And Things Co.</td>\n",
       "      <td>657</td>\n",
       "      <td>46</td>\n",
       "      <td>4378.710000</td>\n",
       "      <td>4</td>\n",
       "      <td>4</td>\n",
       "      <td>4</td>\n",
       "      <td>444</td>\n",
       "    </tr>\n",
       "    <tr>\n",
       "      <th>76</th>\n",
       "      <td>Technics Stores Inc.</td>\n",
       "      <td>802</td>\n",
       "      <td>34</td>\n",
       "      <td>3567.080000</td>\n",
       "      <td>3</td>\n",
       "      <td>4</td>\n",
       "      <td>4</td>\n",
       "      <td>344</td>\n",
       "    </tr>\n",
       "    <tr>\n",
       "      <th>78</th>\n",
       "      <td>The Sharp Gifts Warehouse</td>\n",
       "      <td>694</td>\n",
       "      <td>40</td>\n",
       "      <td>3735.030000</td>\n",
       "      <td>4</td>\n",
       "      <td>4</td>\n",
       "      <td>4</td>\n",
       "      <td>444</td>\n",
       "    </tr>\n",
       "    <tr>\n",
       "      <th>84</th>\n",
       "      <td>Vida Sport, Ltd</td>\n",
       "      <td>930</td>\n",
       "      <td>31</td>\n",
       "      <td>3474.330000</td>\n",
       "      <td>1</td>\n",
       "      <td>3</td>\n",
       "      <td>4</td>\n",
       "      <td>134</td>\n",
       "    </tr>\n",
       "  </tbody>\n",
       "</table>\n",
       "</div>"
      ],
      "text/plain": [
       "                    CUSTOMERNAME  RECENCY  FREQUENCY      MONETARY  \\\n",
       "0                 AV Stores, Co.      851         51   4645.310000   \n",
       "3        Anna's Decorations, Ltd      738         46   4895.510000   \n",
       "6     Australian Collectors, Co.      839         55   5752.460000   \n",
       "11            Baane Mini Imports      863         32   3474.360000   \n",
       "26      Danish Wholesale Imports      701         36   3889.360000   \n",
       "30       Dragon Souveniers, Ltd.      745         43   4863.540000   \n",
       "32         Euro Shopping Channel      655        259  25222.250000   \n",
       "41           L'ordine Souveniers      676         39   4334.750000   \n",
       "43             La Rochelle Gifts      655         53   5143.459070   \n",
       "44             Land of Toys Inc.      853         49   5101.910000   \n",
       "53  Mini Gifts Distributors Ltd.      657        180  18485.340417   \n",
       "55            Muscle Machine Inc      837         48   5335.240000   \n",
       "57  Online Diecast Creations Co.      864         34   3682.270000   \n",
       "63            Reims Collectables      717         41   3868.060000   \n",
       "64                 Rovelli Gifts      856         48   4112.510000   \n",
       "67         Salzburg Collectables      669         40   4055.910000   \n",
       "68        Saveley & Henriot, Co.     1111         41   4122.470000   \n",
       "69       Scandinavian Gift Ideas      744         38   3708.700000   \n",
       "72     Souveniers And Things Co.      657         46   4378.710000   \n",
       "76          Technics Stores Inc.      802         34   3567.080000   \n",
       "78     The Sharp Gifts Warehouse      694         40   3735.030000   \n",
       "84               Vida Sport, Ltd      930         31   3474.330000   \n",
       "\n",
       "    Recency_Quartile  Frequency_Quartile  Monetary_Quartile RFMScore  \n",
       "0                  2                   4                  4      244  \n",
       "3                  3                   4                  4      344  \n",
       "6                  3                   4                  4      344  \n",
       "11                 2                   3                  4      234  \n",
       "26                 4                   4                  4      444  \n",
       "30                 3                   4                  4      344  \n",
       "32                 4                   4                  4      444  \n",
       "41                 4                   4                  4      444  \n",
       "43                 4                   4                  4      444  \n",
       "44                 2                   4                  4      244  \n",
       "53                 4                   4                  4      444  \n",
       "55                 3                   4                  4      344  \n",
       "57                 2                   4                  4      244  \n",
       "63                 4                   4                  4      444  \n",
       "64                 2                   4                  4      244  \n",
       "67                 4                   4                  4      444  \n",
       "68                 1                   4                  4      144  \n",
       "69                 3                   4                  4      344  \n",
       "72                 4                   4                  4      444  \n",
       "76                 3                   4                  4      344  \n",
       "78                 4                   4                  4      444  \n",
       "84                 1                   3                  4      134  "
      ]
     },
     "execution_count": 79,
     "metadata": {},
     "output_type": "execute_result"
    }
   ],
   "source": [
    "rfm_seg[rfm_seg['Monetary_Quartile']==4]"
   ]
  }
 ],
 "metadata": {
  "kernelspec": {
   "display_name": "Python 3",
   "language": "python",
   "name": "python3"
  },
  "language_info": {
   "codemirror_mode": {
    "name": "ipython",
    "version": 3
   },
   "file_extension": ".py",
   "mimetype": "text/x-python",
   "name": "python",
   "nbconvert_exporter": "python",
   "pygments_lexer": "ipython3",
   "version": "3.6.4"
  }
 },
 "nbformat": 4,
 "nbformat_minor": 2
}
